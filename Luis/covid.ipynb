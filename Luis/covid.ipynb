{
  "nbformat": 4,
  "nbformat_minor": 0,
  "metadata": {
    "colab": {
      "name": "Untitled1.ipynb",
      "provenance": [],
      "toc_visible": true,
      "authorship_tag": "ABX9TyPWfdsQOYNqXRPjjWYc6E1/",
      "include_colab_link": true
    },
    "kernelspec": {
      "name": "python3",
      "display_name": "Python 3"
    }
  },
  "cells": [
    {
      "cell_type": "markdown",
      "metadata": {
        "id": "view-in-github",
        "colab_type": "text"
      },
      "source": [
        "<a href=\"https://colab.research.google.com/github/GoetheUniCV/cvproject/blob/main/Luis/covid.ipynb\" target=\"_parent\"><img src=\"https://colab.research.google.com/assets/colab-badge.svg\" alt=\"Open In Colab\"/></a>"
      ]
    },
    {
      "cell_type": "markdown",
      "metadata": {
        "id": "U0A4WXxX-6rA"
      },
      "source": [
        "#Grad-CAM for COVID-19\r\n",
        "\r\n",
        "##1. Setup\r\n",
        "###1.1 Python Environment\r\n",
        "Almost all required packages are preinstalled, except _kerastuner_. You can install it with `!pip install -U keras-tuner`.\r\n",
        "\r\n",
        "###1.2 Google Drive\r\n",
        "####1.2.1 Structure\r\n",
        "Create the following directory structure in your Drive:\r\n",
        "```\r\n",
        "MyDrive\r\n",
        "└── cvproject\r\n",
        "    ├── COVID-10 Radiography Database\r\n",
        "    │   ├── COVID-19\r\n",
        "    │   ├── NORMAL\r\n",
        "    │   └── Viral Pneumonia\r\n",
        "    └── models\r\n",
        "```\r\n",
        "####1.2.2 Upload COVID-19 Dataset\r\n",
        "The directory _COVID-10 Radiography Database_ must contain the dataset from Kaggle (https://www.kaggle.com/tawsifurrahman/covid19-radiography-database).\r\n",
        "\r\n",
        "___\r\n"
      ]
    },
    {
      "cell_type": "code",
      "metadata": {
        "id": "knQA0YZ9aUKA",
        "colab": {
          "base_uri": "https://localhost:8080/"
        },
        "outputId": "ea09aeec-a38e-41a7-c328-687bb2cbd942"
      },
      "source": [
        "!pip install -U keras-tuner"
      ],
      "execution_count": 1,
      "outputs": [
        {
          "output_type": "stream",
          "text": [
            "Collecting keras-tuner\n",
            "\u001b[?25l  Downloading https://files.pythonhosted.org/packages/20/ec/1ef246787174b1e2bb591c95f29d3c1310070cad877824f907faba3dade9/keras-tuner-1.0.2.tar.gz (62kB)\n",
            "\r\u001b[K     |█████▏                          | 10kB 15.0MB/s eta 0:00:01\r\u001b[K     |██████████▍                     | 20kB 20.7MB/s eta 0:00:01\r\u001b[K     |███████████████▋                | 30kB 18.3MB/s eta 0:00:01\r\u001b[K     |████████████████████▉           | 40kB 10.9MB/s eta 0:00:01\r\u001b[K     |██████████████████████████      | 51kB 6.1MB/s eta 0:00:01\r\u001b[K     |███████████████████████████████▎| 61kB 7.1MB/s eta 0:00:01\r\u001b[K     |████████████████████████████████| 71kB 4.1MB/s \n",
            "\u001b[?25hRequirement already satisfied, skipping upgrade: packaging in /usr/local/lib/python3.6/dist-packages (from keras-tuner) (20.8)\n",
            "Requirement already satisfied, skipping upgrade: future in /usr/local/lib/python3.6/dist-packages (from keras-tuner) (0.16.0)\n",
            "Requirement already satisfied, skipping upgrade: numpy in /usr/local/lib/python3.6/dist-packages (from keras-tuner) (1.19.4)\n",
            "Requirement already satisfied, skipping upgrade: tabulate in /usr/local/lib/python3.6/dist-packages (from keras-tuner) (0.8.7)\n",
            "Collecting terminaltables\n",
            "  Downloading https://files.pythonhosted.org/packages/9b/c4/4a21174f32f8a7e1104798c445dacdc1d4df86f2f26722767034e4de4bff/terminaltables-3.1.0.tar.gz\n",
            "Collecting colorama\n",
            "  Downloading https://files.pythonhosted.org/packages/44/98/5b86278fbbf250d239ae0ecb724f8572af1c91f4a11edf4d36a206189440/colorama-0.4.4-py2.py3-none-any.whl\n",
            "Requirement already satisfied, skipping upgrade: tqdm in /usr/local/lib/python3.6/dist-packages (from keras-tuner) (4.41.1)\n",
            "Requirement already satisfied, skipping upgrade: requests in /usr/local/lib/python3.6/dist-packages (from keras-tuner) (2.23.0)\n",
            "Requirement already satisfied, skipping upgrade: scipy in /usr/local/lib/python3.6/dist-packages (from keras-tuner) (1.4.1)\n",
            "Requirement already satisfied, skipping upgrade: scikit-learn in /usr/local/lib/python3.6/dist-packages (from keras-tuner) (0.22.2.post1)\n",
            "Requirement already satisfied, skipping upgrade: pyparsing>=2.0.2 in /usr/local/lib/python3.6/dist-packages (from packaging->keras-tuner) (2.4.7)\n",
            "Requirement already satisfied, skipping upgrade: urllib3!=1.25.0,!=1.25.1,<1.26,>=1.21.1 in /usr/local/lib/python3.6/dist-packages (from requests->keras-tuner) (1.24.3)\n",
            "Requirement already satisfied, skipping upgrade: chardet<4,>=3.0.2 in /usr/local/lib/python3.6/dist-packages (from requests->keras-tuner) (3.0.4)\n",
            "Requirement already satisfied, skipping upgrade: idna<3,>=2.5 in /usr/local/lib/python3.6/dist-packages (from requests->keras-tuner) (2.10)\n",
            "Requirement already satisfied, skipping upgrade: certifi>=2017.4.17 in /usr/local/lib/python3.6/dist-packages (from requests->keras-tuner) (2020.12.5)\n",
            "Requirement already satisfied, skipping upgrade: joblib>=0.11 in /usr/local/lib/python3.6/dist-packages (from scikit-learn->keras-tuner) (1.0.0)\n",
            "Building wheels for collected packages: keras-tuner, terminaltables\n",
            "  Building wheel for keras-tuner (setup.py) ... \u001b[?25l\u001b[?25hdone\n",
            "  Created wheel for keras-tuner: filename=keras_tuner-1.0.2-cp36-none-any.whl size=78939 sha256=7bf1cb1ab7c62bdebed9a9e7bdd3c5c93a1d73054e5b003ddd630d36612d354a\n",
            "  Stored in directory: /root/.cache/pip/wheels/bb/a1/8a/7c3de0efb3707a1701b36ebbfdbc4e67aedf6d4943a1f463d6\n",
            "  Building wheel for terminaltables (setup.py) ... \u001b[?25l\u001b[?25hdone\n",
            "  Created wheel for terminaltables: filename=terminaltables-3.1.0-cp36-none-any.whl size=15358 sha256=82c5ead8039d0af2825099efb4f85d2e916b65607db6eb6371c10a67b679c1d6\n",
            "  Stored in directory: /root/.cache/pip/wheels/30/6b/50/6c75775b681fb36cdfac7f19799888ef9d8813aff9e379663e\n",
            "Successfully built keras-tuner terminaltables\n",
            "Installing collected packages: terminaltables, colorama, keras-tuner\n",
            "Successfully installed colorama-0.4.4 keras-tuner-1.0.2 terminaltables-3.1.0\n"
          ],
          "name": "stdout"
        }
      ]
    },
    {
      "cell_type": "code",
      "metadata": {
        "id": "RoE_CSsQ-4i-"
      },
      "source": [
        "import os\r\n",
        "import sys\r\n",
        "\r\n",
        "import numpy as np\r\n",
        "import pandas as pd\r\n",
        "import matplotlib.pyplot as plt\r\n",
        "import seaborn as sns\r\n",
        "import tensorflow as tf\r\n",
        "from tensorflow import keras\r\n",
        "import kerastuner as kt\r\n",
        "from kerastuner.tuners import RandomSearch\r\n",
        "from kerastuner.engine.hyperparameters import HyperParameter as hp\r\n",
        "from keras.layers import Dense,Dropout,Activation,Add,MaxPooling2D,Conv2D,Flatten\r\n",
        "from keras.models import Sequential \r\n",
        "from keras.preprocessing.image import ImageDataGenerator\r\n",
        "from keras.applications import VGG19\r\n",
        "from keras import layers\r\n",
        "from keras.preprocessing import image\r\n",
        "from google.colab import drive"
      ],
      "execution_count": 3,
      "outputs": []
    },
    {
      "cell_type": "code",
      "metadata": {
        "id": "YODzOjnUN8wI",
        "colab": {
          "base_uri": "https://localhost:8080/"
        },
        "outputId": "8a94c162-b102-42eb-86b5-02a66f922b64"
      },
      "source": [
        "# This mounts your Google Drive to the Colab VM.\r\n",
        "drive.mount('/content/drive', force_remount=True)\r\n",
        "\r\n",
        "# Foldername in your Drive where you have saved the COVID-19 data.\r\n",
        "PROJECT_PATH = '/content/drive/My Drive/cvproject/'\r\n",
        "DATABASE_PATH = f'{PROJECT_PATH}/COVID-19 Radiography Database'\r\n",
        "MODELS_PATH = f'{PROJECT_PATH}/models'\r\n",
        "\r\n",
        "#assert FOLDERNAME is not None, \"[!] Enter the foldername.\"\r\n",
        "\r\n",
        "# now that we've mounted your Drive, this ensures that\r\n",
        "# the Python interpreter of the Colab VM can load\r\n",
        "# python files from within it.\r\n",
        "#sys.path.append(FOLDERPATH)"
      ],
      "execution_count": 4,
      "outputs": [
        {
          "output_type": "stream",
          "text": [
            "Mounted at /content/drive\n"
          ],
          "name": "stdout"
        }
      ]
    },
    {
      "cell_type": "code",
      "metadata": {
        "colab": {
          "base_uri": "https://localhost:8080/"
        },
        "id": "VrWrml9Qcwf0",
        "outputId": "b7d1b245-1e34-491f-8293-8a02c060bcaf"
      },
      "source": [
        "# Check if database is complete.\r\n",
        "try:\r\n",
        "  if len(os.listdir(f'{DATABASE_PATH}/COVID-19')) == 1143:\r\n",
        "    print('COVID-19 compelte.')\r\n",
        "  else:\r\n",
        "    print('COVID-19 incompelte.')\r\n",
        "\r\n",
        "  if len(os.listdir(f'{DATABASE_PATH}/NORMAL')) == 1341:\r\n",
        "    print('NORMAL compelte.')\r\n",
        "  else:\r\n",
        "    print('NORMAL incompelte.')\r\n",
        "\r\n",
        "  if len(os.listdir(f'{DATABASE_PATH}/Viral Pneumonia')) == 1345:\r\n",
        "    print('Viral Pneumonia compelte.')\r\n",
        "  else:\r\n",
        "    print('Viral Pneumonia incompelte.')\r\n",
        "except FileNotFoundError:\r\n",
        "  print(\"Warning: Some directories are missing!\")\r\n",
        "\r\n"
      ],
      "execution_count": 26,
      "outputs": [
        {
          "output_type": "stream",
          "text": [
            "COVID-19 compelte.\n",
            "NORMAL compelte.\n",
            "Viral Pneumonia compelte.\n"
          ],
          "name": "stdout"
        }
      ]
    },
    {
      "cell_type": "code",
      "metadata": {
        "colab": {
          "base_uri": "https://localhost:8080/"
        },
        "id": "TL_UxCAZAay9",
        "outputId": "b69a4cf8-aabd-48e3-9a99-20929c490a47"
      },
      "source": [
        "# Show label name and its encoded value:\r\n",
        "class_names =  [\"COVID-19\",\"NORMAL\",\"Viral Pneumonia\"]\r\n",
        "\r\n",
        "for i, class_name in enumerate(class_names):\r\n",
        "    print(f'{class_name}: {i}')"
      ],
      "execution_count": 28,
      "outputs": [
        {
          "output_type": "stream",
          "text": [
            "COVID-19: 0\n",
            "NORMAL: 1\n",
            "Viral Pneumonia: 2\n"
          ],
          "name": "stdout"
        }
      ]
    },
    {
      "cell_type": "code",
      "metadata": {
        "colab": {
          "base_uri": "https://localhost:8080/"
        },
        "id": "ixqyCb84dfsb",
        "outputId": "607fafbc-0c5d-46a9-88a5-c0d3fd42bf71"
      },
      "source": [
        "# NOTE: Bildgröße aller Bilder wird auf 244 x 244 geändert. Leider sind die\r\n",
        "#       Covid Bilder sehr klein. Normale und Lungenentzündung sind 1024 x 1024.\r\n",
        "\r\n",
        "# NOTE: '= defect_tree =' entfernt\r\n",
        "\r\n",
        "train_data = tf.keras.preprocessing.image_dataset_from_directory(\r\n",
        "    '.',\r\n",
        "    labels=\"inferred\",\r\n",
        "    label_mode=\"int\",\r\n",
        "    class_names=class_names,\r\n",
        "    color_mode=\"rgb\",\r\n",
        "    batch_size=32,\r\n",
        "    image_size=(244, 244),\r\n",
        "    shuffle=True,\r\n",
        "    seed=123,\r\n",
        "    validation_split=0.2,\r\n",
        "    subset=\"training\",\r\n",
        "    interpolation=\"bilinear\",\r\n",
        "    follow_links=False,\r\n",
        ")\r\n",
        "test_data = tf.keras.preprocessing.image_dataset_from_directory(\r\n",
        "    '.',\r\n",
        "    labels=\"inferred\",\r\n",
        "    label_mode=\"int\",\r\n",
        "    class_names=class_names,\r\n",
        "    color_mode=\"rgb\",\r\n",
        "    batch_size=32,\r\n",
        "    image_size=(244, 244),\r\n",
        "    shuffle=True,\r\n",
        "    seed=123,\r\n",
        "    validation_split=0.2,\r\n",
        "    subset=\"validation\",\r\n",
        "    interpolation=\"bilinear\",\r\n",
        "    follow_links=False,\r\n",
        ")"
      ],
      "execution_count": 21,
      "outputs": [
        {
          "output_type": "stream",
          "text": [
            "Found 3833 files belonging to 3 classes.\n",
            "Using 3067 files for training.\n",
            "Found 3833 files belonging to 3 classes.\n",
            "Using 766 files for validation.\n"
          ],
          "name": "stdout"
        }
      ]
    },
    {
      "cell_type": "code",
      "metadata": {
        "id": "iUfrw9lFzazz"
      },
      "source": [
        "# Defining the CNN.\r\n",
        "model = tf.keras.models.Sequential([\r\n",
        "  layers.BatchNormalization(),\r\n",
        "  layers.Conv2D(32, 3, activation='relu'),\r\n",
        "  layers.MaxPooling2D(),\r\n",
        "  layers.Conv2D(64, 3, activation='relu'),\r\n",
        "  layers.MaxPooling2D(),\r\n",
        "  layers.Dropout(0.3),\r\n",
        "  layers.Conv2D(128, 3, activation='relu'),\r\n",
        "  layers.MaxPooling2D(),\r\n",
        "  layers.Dropout(0.2),\r\n",
        "  layers.Flatten(),\r\n",
        "  layers.Dense(256, activation='relu'),\r\n",
        "  layers.Dropout(0.15),\r\n",
        "  layers.Dense(3, activation= 'softmax')\r\n",
        "])"
      ],
      "execution_count": null,
      "outputs": []
    },
    {
      "cell_type": "code",
      "metadata": {
        "id": "2yrKmQXEzl4c"
      },
      "source": [
        "# Avoid overfitting...\r\n",
        "early = tf.keras.callbacks.EarlyStopping(monitor='val_loss',patience=5)"
      ],
      "execution_count": null,
      "outputs": []
    },
    {
      "cell_type": "code",
      "metadata": {
        "id": "xZyUWjxLzmkE"
      },
      "source": [
        "# Compile the model.\r\n",
        "model.compile(optimizer='adam',loss='sparse_categorical_crossentropy', metrics=['accuracy'])"
      ],
      "execution_count": null,
      "outputs": []
    },
    {
      "cell_type": "code",
      "metadata": {
        "colab": {
          "base_uri": "https://localhost:8080/"
        },
        "id": "ZkiQy_vlzoXx",
        "outputId": "b1c7ce33-6271-4167-b27e-d6abda24b826"
      },
      "source": [
        "# Fit the model.\r\n",
        "history=model.fit(train_data,validation_data= test_data,batch_size=32,epochs = 20,callbacks=[early])"
      ],
      "execution_count": null,
      "outputs": [
        {
          "output_type": "stream",
          "text": [
            "Epoch 1/20\n",
            "96/96 [==============================] - 1692s 16s/step - loss: 4.2358 - accuracy: 0.6253 - val_loss: 0.5082 - val_accuracy: 0.8157\n",
            "Epoch 2/20\n",
            "96/96 [==============================] - 55s 536ms/step - loss: 0.2477 - accuracy: 0.9167 - val_loss: 0.2702 - val_accuracy: 0.9111\n",
            "Epoch 3/20\n",
            "96/96 [==============================] - 54s 533ms/step - loss: 0.1594 - accuracy: 0.9408 - val_loss: 0.2325 - val_accuracy: 0.9242\n",
            "Epoch 4/20\n",
            "96/96 [==============================] - 54s 533ms/step - loss: 0.1292 - accuracy: 0.9515 - val_loss: 0.1998 - val_accuracy: 0.9386\n",
            "Epoch 5/20\n",
            "96/96 [==============================] - 54s 532ms/step - loss: 0.0890 - accuracy: 0.9681 - val_loss: 0.3876 - val_accuracy: 0.9072\n",
            "Epoch 6/20\n",
            "96/96 [==============================] - 55s 537ms/step - loss: 0.0898 - accuracy: 0.9668 - val_loss: 0.2241 - val_accuracy: 0.9307\n",
            "Epoch 7/20\n",
            "96/96 [==============================] - 55s 538ms/step - loss: 0.0476 - accuracy: 0.9786 - val_loss: 0.1957 - val_accuracy: 0.9490\n",
            "Epoch 8/20\n",
            "96/96 [==============================] - 55s 538ms/step - loss: 0.0301 - accuracy: 0.9915 - val_loss: 0.1964 - val_accuracy: 0.9399\n",
            "Epoch 9/20\n",
            "96/96 [==============================] - 55s 536ms/step - loss: 0.0316 - accuracy: 0.9864 - val_loss: 0.1997 - val_accuracy: 0.9425\n",
            "Epoch 10/20\n",
            "96/96 [==============================] - 55s 537ms/step - loss: 0.0218 - accuracy: 0.9917 - val_loss: 0.2279 - val_accuracy: 0.9399\n",
            "Epoch 11/20\n",
            "96/96 [==============================] - 55s 538ms/step - loss: 0.0150 - accuracy: 0.9936 - val_loss: 0.2345 - val_accuracy: 0.9477\n",
            "Epoch 12/20\n",
            "96/96 [==============================] - 55s 537ms/step - loss: 0.0270 - accuracy: 0.9904 - val_loss: 0.2487 - val_accuracy: 0.9477\n"
          ],
          "name": "stdout"
        }
      ]
    },
    {
      "cell_type": "code",
      "metadata": {
        "colab": {
          "base_uri": "https://localhost:8080/"
        },
        "id": "bFsJl2kcz0al",
        "outputId": "9c508883-80b0-4673-c0ba-8edbd0cc5681"
      },
      "source": [
        "# Evaluate the model.\r\n",
        "model.evaluate(test_data)"
      ],
      "execution_count": 20,
      "outputs": [
        {
          "output_type": "stream",
          "text": [
            "24/24 [==============================] - 418s 12s/step - loss: 8.6671 - accuracy: 0.3394\n"
          ],
          "name": "stdout"
        },
        {
          "output_type": "execute_result",
          "data": {
            "text/plain": [
              "[8.667108535766602, 0.33942559361457825]"
            ]
          },
          "metadata": {
            "tags": []
          },
          "execution_count": 20
        }
      ]
    },
    {
      "cell_type": "code",
      "metadata": {
        "id": "tOWAad4uIpaO"
      },
      "source": [
        "#plotting training values\r\n",
        "sns.set()\r\n",
        "\r\n",
        "acc = history.history['accuracy']\r\n",
        "val_acc = history.history['val_accuracy']\r\n",
        "loss = history.history['loss']\r\n",
        "val_loss = history.history['val_loss']\r\n",
        "epochs = range(1, len(loss) + 1)\r\n",
        "\r\n",
        "#accuracy plot\r\n",
        "plt.plot(epochs, acc, color='green', label='Training Accuracy')\r\n",
        "plt.plot(epochs, val_acc, color='blue', label='Validation Accuracy')\r\n",
        "plt.title('Training and Validation Accuracy')\r\n",
        "plt.ylabel('Accuracy')\r\n",
        "plt.xlabel('Epoch')\r\n",
        "plt.legend()\r\n",
        "\r\n",
        "plt.figure()\r\n",
        "#loss plot\r\n",
        "plt.plot(epochs, loss, color='pink', label='Training Loss')\r\n",
        "plt.plot(epochs, val_loss, color='red', label='Validation Loss')\r\n",
        "plt.title('Training and Validation Loss')\r\n",
        "plt.xlabel('Epoch')\r\n",
        "plt.ylabel('Loss')\r\n",
        "plt.legend()\r\n",
        "\r\n",
        "plt.show()"
      ],
      "execution_count": null,
      "outputs": []
    },
    {
      "cell_type": "code",
      "metadata": {
        "id": "1hSb6Qn-Ip1W"
      },
      "source": [
        "#train data accuracy and loss\r\n",
        "plt.plot(history.history['val_loss'], label = 'training loss')\r\n",
        "plt.plot(history.history['val_accuracy'], label = 'training accuracy')\r\n",
        "plt.legend()"
      ],
      "execution_count": null,
      "outputs": []
    },
    {
      "cell_type": "code",
      "metadata": {
        "id": "PcoOziXwIroW"
      },
      "source": [
        "#test data accuracy and loss\r\n",
        "plt.plot(history.history['loss'], label = 'training loss')\r\n",
        "plt.plot(history.history['accuracy'], label = 'training accuracy')\r\n",
        "plt.legend()"
      ],
      "execution_count": null,
      "outputs": []
    },
    {
      "cell_type": "code",
      "metadata": {
        "id": "im53-qPRIuat"
      },
      "source": [
        "#save file as h5 model\r\n",
        "model_json = model.to_json()\r\n",
        "with open(\"model.json\", \"w\") as json_file:\r\n",
        "    json_file.write(model_json)\r\n",
        "# serialize weights to HDF5\r\n",
        "\r\n",
        "model.save(f'{MODELS_PATH}/model.h5')"
      ],
      "execution_count": null,
      "outputs": []
    },
    {
      "cell_type": "code",
      "metadata": {
        "id": "vMZK1gCoI2hm"
      },
      "source": [
        "model = keras.models.load_model(f'{MODELS_PATH}/model.h5')"
      ],
      "execution_count": 6,
      "outputs": []
    },
    {
      "cell_type": "code",
      "metadata": {
        "colab": {
          "base_uri": "https://localhost:8080/"
        },
        "id": "gk84EseISq-m",
        "outputId": "5d9935ca-1137-4cbb-b320-2ef2252ad7e0"
      },
      "source": [
        " model.summary()"
      ],
      "execution_count": 7,
      "outputs": [
        {
          "output_type": "stream",
          "text": [
            "Model: \"sequential\"\n",
            "_________________________________________________________________\n",
            "Layer (type)                 Output Shape              Param #   \n",
            "=================================================================\n",
            "batch_normalization (BatchNo (None, 244, 244, 3)       12        \n",
            "_________________________________________________________________\n",
            "conv2d (Conv2D)              (None, 242, 242, 32)      896       \n",
            "_________________________________________________________________\n",
            "max_pooling2d (MaxPooling2D) (None, 121, 121, 32)      0         \n",
            "_________________________________________________________________\n",
            "conv2d_1 (Conv2D)            (None, 119, 119, 64)      18496     \n",
            "_________________________________________________________________\n",
            "max_pooling2d_1 (MaxPooling2 (None, 59, 59, 64)        0         \n",
            "_________________________________________________________________\n",
            "dropout (Dropout)            (None, 59, 59, 64)        0         \n",
            "_________________________________________________________________\n",
            "conv2d_2 (Conv2D)            (None, 57, 57, 128)       73856     \n",
            "_________________________________________________________________\n",
            "max_pooling2d_2 (MaxPooling2 (None, 28, 28, 128)       0         \n",
            "_________________________________________________________________\n",
            "dropout_1 (Dropout)          (None, 28, 28, 128)       0         \n",
            "_________________________________________________________________\n",
            "flatten (Flatten)            (None, 100352)            0         \n",
            "_________________________________________________________________\n",
            "dense (Dense)                (None, 256)               25690368  \n",
            "_________________________________________________________________\n",
            "dropout_2 (Dropout)          (None, 256)               0         \n",
            "_________________________________________________________________\n",
            "dense_1 (Dense)              (None, 3)                 771       \n",
            "=================================================================\n",
            "Total params: 25,784,399\n",
            "Trainable params: 25,784,393\n",
            "Non-trainable params: 6\n",
            "_________________________________________________________________\n"
          ],
          "name": "stdout"
        }
      ]
    },
    {
      "cell_type": "code",
      "metadata": {
        "id": "6OFUURa-SrsH"
      },
      "source": [
        ""
      ],
      "execution_count": null,
      "outputs": []
    },
    {
      "cell_type": "markdown",
      "metadata": {
        "id": "26wLVthP7DBz"
      },
      "source": [
        "##Grad-CAM"
      ]
    },
    {
      "cell_type": "code",
      "metadata": {
        "id": "BAvWT5Iu8IV_"
      },
      "source": [
        "# Display\r\n",
        "from IPython.display import Image\r\n",
        "import matplotlib.pyplot as plt\r\n",
        "import matplotlib.cm as cm\r\n"
      ],
      "execution_count": 10,
      "outputs": []
    },
    {
      "cell_type": "code",
      "metadata": {
        "colab": {
          "base_uri": "https://localhost:8080/",
          "height": 273
        },
        "id": "NaLjvHsG7VxG",
        "outputId": "2aca2c02-1f4f-4c79-da00-b02ef3ad71c2"
      },
      "source": [
        "#model_builder = keras.applications.xception.Xception\r\n",
        "img_size = (244, 244)\r\n",
        "#preprocess_input = keras.applications.xception.preprocess_input\r\n",
        "#decode_predictions = keras.applications.xception.decode_predictions\r\n",
        "\r\n",
        "last_conv_layer_name = \"dropout_1\"\r\n",
        "classifier_layer_names = [\r\n",
        "    \"flatten\",\r\n",
        "    \"dense\",\r\n",
        "    \"dropout_2\",\r\n",
        "    \"dense_1\",\r\n",
        "]\r\n",
        "\r\n",
        "# Loads our target image and returns the local path to it.\r\n",
        "img_path = keras.utils.get_file(\r\n",
        "    \"COVID-19 (1).png\", \"https://lh4.googleusercontent.com/RESm_zQ7aljbqDRa8GhvLWGRhWBOM64EJR-toBlyOOODijxrdSWUzWfCR9T8j0ZPkipeeTLvC2ZrnvftWyEf=w2560-h1297\"\r\n",
        ")\r\n",
        "\r\n",
        "display(Image(img_path))"
      ],
      "execution_count": 87,
      "outputs": [
        {
          "output_type": "display_data",
          "data": {
            "image/png": "[encoded data removed]",
            "text/plain": [
              "<IPython.core.display.Image object>"
            ]
          },
          "metadata": {
            "tags": []
          }
        }
      ]
    },
    {
      "cell_type": "code",
      "metadata": {
        "id": "_SSvixTY7FHs"
      },
      "source": [
        "def get_img_array(img_path, size):\r\n",
        "    # `img` is a PIL image of size 299x299\r\n",
        "    img = keras.preprocessing.image.load_img(img_path, target_size=size)\r\n",
        "    # `array` is a float32 Numpy array of shape (299, 299, 3)\r\n",
        "    array = keras.preprocessing.image.img_to_array(img)\r\n",
        "    # We add a dimension to transform our array into a \"batch\"\r\n",
        "    # of size (1, 299, 299, 3)\r\n",
        "    array = np.expand_dims(array, axis=0)\r\n",
        "    return array\r\n",
        "\r\n",
        "\r\n",
        "def make_gradcam_heatmap(\r\n",
        "    img_array, model, last_conv_layer_name, classifier_layer_names\r\n",
        "):\r\n",
        "    # First, we create a model that maps the input image to the activations\r\n",
        "    # of the last conv layer\r\n",
        "    last_conv_layer = model.get_layer(last_conv_layer_name)\r\n",
        "    last_conv_layer_model = keras.Model(model.inputs, last_conv_layer.output)\r\n",
        "\r\n",
        "    # Second, we create a model that maps the activations of the last conv\r\n",
        "    # layer to the final class predictions\r\n",
        "    classifier_input = keras.Input(shape=last_conv_layer.output.shape[1:])\r\n",
        "    x = classifier_input\r\n",
        "    for layer_name in classifier_layer_names:\r\n",
        "        x = model.get_layer(layer_name)(x)\r\n",
        "    classifier_model = keras.Model(classifier_input, x)\r\n",
        "\r\n",
        "    # Then, we compute the gradient of the top predicted class for our input image\r\n",
        "    # with respect to the activations of the last conv layer\r\n",
        "    with tf.GradientTape() as tape:\r\n",
        "        # Compute activations of the last conv layer and make the tape watch it\r\n",
        "        last_conv_layer_output = last_conv_layer_model(img_array)\r\n",
        "        tape.watch(last_conv_layer_output)\r\n",
        "        # Compute class predictions\r\n",
        "        preds = classifier_model(last_conv_layer_output)\r\n",
        "        top_pred_index = tf.argmax(preds[0])\r\n",
        "        top_class_channel = preds[:, top_pred_index]\r\n",
        "\r\n",
        "    # This is the gradient of the top predicted class with regard to\r\n",
        "    # the output feature map of the last conv layer\r\n",
        "    grads = tape.gradient(top_class_channel, last_conv_layer_output)\r\n",
        "\r\n",
        "    # This is a vector where each entry is the mean intensity of the gradient\r\n",
        "    # over a specific feature map channel\r\n",
        "    pooled_grads = tf.reduce_mean(grads, axis=(0, 1, 2))\r\n",
        "\r\n",
        "    # We multiply each channel in the feature map array\r\n",
        "    # by \"how important this channel is\" with regard to the top predicted class\r\n",
        "    last_conv_layer_output = last_conv_layer_output.numpy()[0]\r\n",
        "    pooled_grads = pooled_grads.numpy()\r\n",
        "    for i in range(pooled_grads.shape[-1]):\r\n",
        "        last_conv_layer_output[:, :, i] *= pooled_grads[i]\r\n",
        "\r\n",
        "    # The channel-wise mean of the resulting feature map\r\n",
        "    # is our heatmap of class activation\r\n",
        "    heatmap = np.mean(last_conv_layer_output, axis=-1)\r\n",
        "\r\n",
        "    # For visualization purpose, we will also normalize the heatmap between 0 & 1\r\n",
        "    heatmap = np.maximum(heatmap, 0) / np.max(heatmap)\r\n",
        "    return heatmap"
      ],
      "execution_count": 85,
      "outputs": []
    },
    {
      "cell_type": "code",
      "metadata": {
        "colab": {
          "base_uri": "https://localhost:8080/",
          "height": 330
        },
        "id": "3lXdiaWo7Fus",
        "outputId": "3f112c82-c323-4909-de08-0279ce18984f"
      },
      "source": [
        "# Prepare image\r\n",
        "# img_array = preprocess_input(get_img_array(img_path, size=img_size))\r\n",
        "img_array = get_img_array(img_path, size=img_size)\r\n",
        "# Make model\r\n",
        "# model = model_builder(weights=\"imagenet\")\r\n",
        "\r\n",
        "# Print what the top predicted class is.\r\n",
        "preds = model.predict(img_array)\r\n",
        "for class_name, pred  in zip(class_names, preds.round(decimals=2).reshape(3)):\r\n",
        "  print(f'{class_name}: {pred}')\r\n",
        "\r\n",
        "# Generate class activation heatmap\r\n",
        "heatmap = make_gradcam_heatmap(\r\n",
        "    img_array, model, last_conv_layer_name, classifier_layer_names\r\n",
        ")\r\n",
        "\r\n",
        "# Display heatmap\r\n",
        "plt.matshow(heatmap)\r\n",
        "plt.show()"
      ],
      "execution_count": 89,
      "outputs": [
        {
          "output_type": "stream",
          "text": [
            "COVID-19: 1.0\n",
            "NORMAL: 0.0\n",
            "Viral Pneumonia: 0.0\n"
          ],
          "name": "stdout"
        },
        {
          "output_type": "display_data",
          "data": {
            "image/png": "[encoded data removed]",
            "text/plain": [
              "<Figure size 288x288 with 1 Axes>"
            ]
          },
          "metadata": {
            "tags": [],
            "needs_background": "light"
          }
        }
      ]
    },
    {
      "cell_type": "code",
      "metadata": {
        "colab": {
          "base_uri": "https://localhost:8080/",
          "height": 273
        },
        "id": "9DnqftT8Canc",
        "outputId": "96fd4889-e7b0-43fe-9996-4fa6c38d6794"
      },
      "source": [
        "# We load the original image\r\n",
        "img = keras.preprocessing.image.load_img(img_path)\r\n",
        "img = keras.preprocessing.image.img_to_array(img)\r\n",
        "\r\n",
        "# We rescale heatmap to a range 0-255\r\n",
        "heatmap = np.uint8(255 * heatmap)\r\n",
        "\r\n",
        "# We use jet colormap to colorize heatmap\r\n",
        "jet = cm.get_cmap(\"jet\")\r\n",
        "\r\n",
        "# We use RGB values of the colormap\r\n",
        "jet_colors = jet(np.arange(256))[:, :3]\r\n",
        "jet_heatmap = jet_colors[heatmap]\r\n",
        "\r\n",
        "# We create an image with RGB colorized heatmap\r\n",
        "jet_heatmap = keras.preprocessing.image.array_to_img(jet_heatmap)\r\n",
        "jet_heatmap = jet_heatmap.resize((img.shape[1], img.shape[0]))\r\n",
        "jet_heatmap = keras.preprocessing.image.img_to_array(jet_heatmap)\r\n",
        "\r\n",
        "# Superimpose the heatmap on original image\r\n",
        "superimposed_img = jet_heatmap * 0.4 + img\r\n",
        "superimposed_img = keras.preprocessing.image.array_to_img(superimposed_img)\r\n",
        "\r\n",
        "# Save the superimposed image\r\n",
        "save_path = \"elephant_cam.jpg\"\r\n",
        "superimposed_img.save(save_path)\r\n",
        "\r\n",
        "# Display Grad CAM\r\n",
        "display(Image(save_path))\r\n"
      ],
      "execution_count": 90,
      "outputs": [
        {
          "output_type": "display_data",
          "data": {
            "image/jpeg": "[encoded data removed]",
            "text/plain": [
              "<IPython.core.display.Image object>"
            ]
          },
          "metadata": {
            "tags": []
          }
        }
      ]
    }
  ]
}