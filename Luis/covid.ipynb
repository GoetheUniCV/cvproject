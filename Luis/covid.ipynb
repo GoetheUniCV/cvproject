{
  "nbformat": 4,
  "nbformat_minor": 0,
  "metadata": {
    "colab": {
      "name": "Untitled1.ipynb",
      "provenance": [],
      "toc_visible": true,
      "authorship_tag": "ABX9TyOOaZ/jZZ/d8TqLZ/D73yAk",
      "include_colab_link": true
    },
    "kernelspec": {
      "name": "python3",
      "display_name": "Python 3"
    },
    "accelerator": "TPU"
  },
  "cells": [
    {
      "cell_type": "markdown",
      "metadata": {
        "id": "view-in-github",
        "colab_type": "text"
      },
      "source": [
        "<a href=\"https://colab.research.google.com/github/GoetheUniCV/cvproject/blob/main/Luis/covid.ipynb\" target=\"_parent\"><img src=\"https://colab.research.google.com/assets/colab-badge.svg\" alt=\"Open In Colab\"/></a>"
      ]
    },
    {
      "cell_type": "markdown",
      "metadata": {
        "id": "U0A4WXxX-6rA"
      },
      "source": [
        "#Grad-CAM for COVID-19\r\n",
        "\r\n",
        "##1. Setup\r\n",
        "###1.1 Python Environment\r\n",
        "Almost all required packages are preinstalled, except _kerastuner_. You can install it with `!pip install -U keras-tuner`.\r\n",
        "\r\n",
        "###1.2 Google Drive\r\n",
        "####1.2.1 Structure\r\n",
        "Create the following directory structure in your Drive:\r\n",
        "```\r\n",
        "MyDrive\r\n",
        "└── cvproject\r\n",
        "    ├── COVID-10 Radiography Database\r\n",
        "    │   ├── COVID-19\r\n",
        "    │   ├── NORMAL\r\n",
        "    │   └── Viral Pneumonia\r\n",
        "    └── models\r\n",
        "```\r\n",
        "####1.2.2 Upload COVID-19 Dataset\r\n",
        "The directory _COVID-10 Radiography Database_ must contain the dataset from Kaggle (https://www.kaggle.com/tawsifurrahman/covid19-radiography-database).\r\n",
        "\r\n",
        "___\r\n"
      ]
    },
    {
      "cell_type": "code",
      "metadata": {
        "id": "knQA0YZ9aUKA",
        "colab": {
          "base_uri": "https://localhost:8080/"
        },
        "outputId": "8a7c6b36-9bc3-4ac8-9311-1fc2caf4accb"
      },
      "source": [
        "!pip install -U keras-tuner"
      ],
      "execution_count": 1,
      "outputs": [
        {
          "output_type": "stream",
          "text": [
            "Collecting keras-tuner\n",
            "\u001b[?25l  Downloading https://files.pythonhosted.org/packages/20/ec/1ef246787174b1e2bb591c95f29d3c1310070cad877824f907faba3dade9/keras-tuner-1.0.2.tar.gz (62kB)\n",
            "\r\u001b[K     |█████▏                          | 10kB 18.6MB/s eta 0:00:01\r\u001b[K     |██████████▍                     | 20kB 12.2MB/s eta 0:00:01\r\u001b[K     |███████████████▋                | 30kB 9.4MB/s eta 0:00:01\r\u001b[K     |████████████████████▉           | 40kB 8.9MB/s eta 0:00:01\r\u001b[K     |██████████████████████████      | 51kB 5.3MB/s eta 0:00:01\r\u001b[K     |███████████████████████████████▎| 61kB 5.9MB/s eta 0:00:01\r\u001b[K     |████████████████████████████████| 71kB 4.1MB/s \n",
            "\u001b[?25hRequirement already satisfied, skipping upgrade: packaging in /usr/local/lib/python3.6/dist-packages (from keras-tuner) (20.8)\n",
            "Requirement already satisfied, skipping upgrade: future in /usr/local/lib/python3.6/dist-packages (from keras-tuner) (0.16.0)\n",
            "Requirement already satisfied, skipping upgrade: numpy in /usr/local/lib/python3.6/dist-packages (from keras-tuner) (1.19.4)\n",
            "Requirement already satisfied, skipping upgrade: tabulate in /usr/local/lib/python3.6/dist-packages (from keras-tuner) (0.8.7)\n",
            "Collecting terminaltables\n",
            "  Downloading https://files.pythonhosted.org/packages/9b/c4/4a21174f32f8a7e1104798c445dacdc1d4df86f2f26722767034e4de4bff/terminaltables-3.1.0.tar.gz\n",
            "Collecting colorama\n",
            "  Downloading https://files.pythonhosted.org/packages/44/98/5b86278fbbf250d239ae0ecb724f8572af1c91f4a11edf4d36a206189440/colorama-0.4.4-py2.py3-none-any.whl\n",
            "Requirement already satisfied, skipping upgrade: tqdm in /usr/local/lib/python3.6/dist-packages (from keras-tuner) (4.41.1)\n",
            "Requirement already satisfied, skipping upgrade: requests in /usr/local/lib/python3.6/dist-packages (from keras-tuner) (2.23.0)\n",
            "Requirement already satisfied, skipping upgrade: scipy in /usr/local/lib/python3.6/dist-packages (from keras-tuner) (1.4.1)\n",
            "Requirement already satisfied, skipping upgrade: scikit-learn in /usr/local/lib/python3.6/dist-packages (from keras-tuner) (0.22.2.post1)\n",
            "Requirement already satisfied, skipping upgrade: pyparsing>=2.0.2 in /usr/local/lib/python3.6/dist-packages (from packaging->keras-tuner) (2.4.7)\n",
            "Requirement already satisfied, skipping upgrade: certifi>=2017.4.17 in /usr/local/lib/python3.6/dist-packages (from requests->keras-tuner) (2020.12.5)\n",
            "Requirement already satisfied, skipping upgrade: urllib3!=1.25.0,!=1.25.1,<1.26,>=1.21.1 in /usr/local/lib/python3.6/dist-packages (from requests->keras-tuner) (1.24.3)\n",
            "Requirement already satisfied, skipping upgrade: chardet<4,>=3.0.2 in /usr/local/lib/python3.6/dist-packages (from requests->keras-tuner) (3.0.4)\n",
            "Requirement already satisfied, skipping upgrade: idna<3,>=2.5 in /usr/local/lib/python3.6/dist-packages (from requests->keras-tuner) (2.10)\n",
            "Requirement already satisfied, skipping upgrade: joblib>=0.11 in /usr/local/lib/python3.6/dist-packages (from scikit-learn->keras-tuner) (1.0.0)\n",
            "Building wheels for collected packages: keras-tuner, terminaltables\n",
            "  Building wheel for keras-tuner (setup.py) ... \u001b[?25l\u001b[?25hdone\n",
            "  Created wheel for keras-tuner: filename=keras_tuner-1.0.2-cp36-none-any.whl size=78939 sha256=61dcf9cb25ae761831a7ca83abb39c6b4da6ad4403bd0fca1e410a392a42bb51\n",
            "  Stored in directory: /root/.cache/pip/wheels/bb/a1/8a/7c3de0efb3707a1701b36ebbfdbc4e67aedf6d4943a1f463d6\n",
            "  Building wheel for terminaltables (setup.py) ... \u001b[?25l\u001b[?25hdone\n",
            "  Created wheel for terminaltables: filename=terminaltables-3.1.0-cp36-none-any.whl size=15358 sha256=0099396b9a34f3d489cb5795b4f6c7f5d2cb73a643dbc35baa6677d43d55a56b\n",
            "  Stored in directory: /root/.cache/pip/wheels/30/6b/50/6c75775b681fb36cdfac7f19799888ef9d8813aff9e379663e\n",
            "Successfully built keras-tuner terminaltables\n",
            "Installing collected packages: terminaltables, colorama, keras-tuner\n",
            "Successfully installed colorama-0.4.4 keras-tuner-1.0.2 terminaltables-3.1.0\n"
          ],
          "name": "stdout"
        }
      ]
    },
    {
      "cell_type": "code",
      "metadata": {
        "id": "RoE_CSsQ-4i-"
      },
      "source": [
        "import os\r\n",
        "import sys\r\n",
        "\r\n",
        "import numpy as np\r\n",
        "import pandas as pd\r\n",
        "import matplotlib.pyplot as plt\r\n",
        "import seaborn as sns\r\n",
        "import tensorflow as tf\r\n",
        "from tensorflow import keras\r\n",
        "import kerastuner as kt\r\n",
        "from kerastuner.tuners import RandomSearch\r\n",
        "from kerastuner.engine.hyperparameters import HyperParameter as hp\r\n",
        "from keras.layers import Dense,Dropout,Activation,Add,MaxPooling2D,Conv2D,Flatten\r\n",
        "from keras.models import Sequential \r\n",
        "from keras.preprocessing.image import ImageDataGenerator\r\n",
        "from keras.applications import VGG19\r\n",
        "from keras import layers\r\n",
        "from keras.preprocessing import image\r\n",
        "from google.colab import drive"
      ],
      "execution_count": 2,
      "outputs": []
    },
    {
      "cell_type": "code",
      "metadata": {
        "id": "YODzOjnUN8wI",
        "colab": {
          "base_uri": "https://localhost:8080/"
        },
        "outputId": "97e9efdc-c4ee-4552-dae1-6e8089d159b5"
      },
      "source": [
        "# This mounts your Google Drive to the Colab VM.\r\n",
        "drive.mount('/content/drive', force_remount=True)\r\n",
        "\r\n",
        "# Foldername in your Drive where you have saved the COVID-19 data.\r\n",
        "PROJECT_PATH = '/content/drive/My Drive/cvproject/'\r\n",
        "DATABASE_PATH = f'{PROJECT_PATH}/COVID-19 Radiography Database'\r\n",
        "MODELS_PATH = f'{PROJECT_PATH}/models'\r\n",
        "\r\n",
        "#assert FOLDERNAME is not None, \"[!] Enter the foldername.\"\r\n",
        "\r\n",
        "# now that we've mounted your Drive, this ensures that\r\n",
        "# the Python interpreter of the Colab VM can load\r\n",
        "# python files from within it.\r\n",
        "#sys.path.append(FOLDERPATH)"
      ],
      "execution_count": 3,
      "outputs": [
        {
          "output_type": "stream",
          "text": [
            "Mounted at /content/drive\n"
          ],
          "name": "stdout"
        }
      ]
    },
    {
      "cell_type": "code",
      "metadata": {
        "colab": {
          "base_uri": "https://localhost:8080/"
        },
        "id": "VrWrml9Qcwf0",
        "outputId": "ec1af287-cecc-4379-a2e8-2af31650606c"
      },
      "source": [
        "# Check if database is complete.\r\n",
        "try:\r\n",
        "  if len(os.listdir(f'{DATABASE_PATH}/COVID-19')) == 1143:\r\n",
        "    print('COVID-19 compelte.')\r\n",
        "  else:\r\n",
        "    print('COVID-19 incompelte.')\r\n",
        "\r\n",
        "  if len(os.listdir(f'{DATABASE_PATH}/NORMAL')) == 1341:\r\n",
        "    print('NORMAL compelte.')\r\n",
        "  else:\r\n",
        "    print('NORMAL incompelte.')\r\n",
        "\r\n",
        "  if len(os.listdir(f'{DATABASE_PATH}/Viral Pneumonia')) == 1345:\r\n",
        "    print('Viral Pneumonia compelte.')\r\n",
        "  else:\r\n",
        "    print('Viral Pneumonia incompelte.')\r\n",
        "except FileNotFoundError:\r\n",
        "  print(\"Warning: Some directories are missing!\")\r\n",
        "\r\n"
      ],
      "execution_count": 4,
      "outputs": [
        {
          "output_type": "stream",
          "text": [
            "COVID-19 compelte.\n",
            "NORMAL compelte.\n",
            "Viral Pneumonia compelte.\n"
          ],
          "name": "stdout"
        }
      ]
    },
    {
      "cell_type": "code",
      "metadata": {
        "colab": {
          "base_uri": "https://localhost:8080/"
        },
        "id": "TL_UxCAZAay9",
        "outputId": "9e57bc65-08e8-4e16-ba50-45fe5175e81f"
      },
      "source": [
        "# Show label name and its encoded value:\r\n",
        "class_names =  [\"COVID-19\",\"NORMAL\",\"Viral Pneumonia\"]\r\n",
        "\r\n",
        "for i, class_name in enumerate(class_names):\r\n",
        "    print(f'{class_name}: {i}')"
      ],
      "execution_count": 5,
      "outputs": [
        {
          "output_type": "stream",
          "text": [
            "COVID-19: 0\n",
            "NORMAL: 1\n",
            "Viral Pneumonia: 2\n"
          ],
          "name": "stdout"
        }
      ]
    },
    {
      "cell_type": "code",
      "metadata": {
        "colab": {
          "base_uri": "https://localhost:8080/"
        },
        "id": "ixqyCb84dfsb",
        "outputId": "8f56b50c-a1c8-4c82-c5bc-bb406eed039c"
      },
      "source": [
        "# NOTE: Bildgröße aller Bilder wird auf 244 x 244 geändert. Leider sind die\r\n",
        "#       Covid Bilder sehr klein. Normale und Lungenentzündung sind 1024 x 1024.\r\n",
        "\r\n",
        "# NOTE: '= defect_tree =' entfernt\r\n",
        "\r\n",
        "train_data = tf.keras.preprocessing.image_dataset_from_directory(\r\n",
        "    directory=DATABASE_PATH,\r\n",
        "    labels=\"inferred\",\r\n",
        "    label_mode=\"int\",\r\n",
        "    class_names=class_names,\r\n",
        "    color_mode=\"rgb\",\r\n",
        "    batch_size=32,\r\n",
        "    image_size=(244, 244),\r\n",
        "    shuffle=True,\r\n",
        "    seed=123,\r\n",
        "    validation_split=0.2,\r\n",
        "    subset=\"training\",\r\n",
        "    interpolation=\"bilinear\",\r\n",
        "    follow_links=False,\r\n",
        ")\r\n",
        "test_data = tf.keras.preprocessing.image_dataset_from_directory(\r\n",
        "    directory=DATABASE_PATH,\r\n",
        "    labels=\"inferred\",\r\n",
        "    label_mode=\"int\",\r\n",
        "    class_names=class_names,\r\n",
        "    color_mode=\"rgb\",\r\n",
        "    batch_size=32,\r\n",
        "    image_size=(244, 244),\r\n",
        "    shuffle=True,\r\n",
        "    seed=123,\r\n",
        "    validation_split=0.2,\r\n",
        "    subset=\"validation\",\r\n",
        "    interpolation=\"bilinear\",\r\n",
        "    follow_links=False,\r\n",
        ")"
      ],
      "execution_count": 7,
      "outputs": [
        {
          "output_type": "stream",
          "text": [
            "Found 3829 files belonging to 3 classes.\n",
            "Using 3064 files for training.\n",
            "Found 3829 files belonging to 3 classes.\n",
            "Using 765 files for validation.\n"
          ],
          "name": "stdout"
        }
      ]
    },
    {
      "cell_type": "code",
      "metadata": {
        "id": "iUfrw9lFzazz"
      },
      "source": [
        "# Defining the CNN.\r\n",
        "model = tf.keras.models.Sequential([\r\n",
        "  layers.BatchNormalization(),\r\n",
        "  layers.Conv2D(32, 3, activation='relu'),\r\n",
        "  layers.MaxPooling2D(),\r\n",
        "  layers.Conv2D(64, 3, activation='relu'),\r\n",
        "  layers.MaxPooling2D(),\r\n",
        "  layers.Dropout(0.3),\r\n",
        "  layers.Conv2D(128, 3, activation='relu'),\r\n",
        "  layers.MaxPooling2D(),\r\n",
        "  layers.Dropout(0.2),\r\n",
        "  layers.Flatten(),\r\n",
        "  layers.Dense(256, activation='relu'),\r\n",
        "  layers.Dropout(0.15),\r\n",
        "  layers.Dense(3, activation= 'softmax')\r\n",
        "])"
      ],
      "execution_count": 8,
      "outputs": []
    },
    {
      "cell_type": "code",
      "metadata": {
        "id": "2yrKmQXEzl4c"
      },
      "source": [
        "# Avoid overfitting...\r\n",
        "early = tf.keras.callbacks.EarlyStopping(monitor='val_loss',patience=5)"
      ],
      "execution_count": 9,
      "outputs": []
    },
    {
      "cell_type": "code",
      "metadata": {
        "id": "xZyUWjxLzmkE"
      },
      "source": [
        "# Compile the model.\r\n",
        "model.compile(optimizer='adam',loss='sparse_categorical_crossentropy', metrics=['accuracy'])"
      ],
      "execution_count": 10,
      "outputs": []
    },
    {
      "cell_type": "code",
      "metadata": {
        "colab": {
          "base_uri": "https://localhost:8080/"
        },
        "id": "ZkiQy_vlzoXx",
        "outputId": "cef63740-1435-4e0a-f3a3-3b11c9e35163"
      },
      "source": [
        "# Fit the model.\r\n",
        "history=model.fit(train_data,validation_data= test_data,batch_size=32,epochs = 20,callbacks=[early])"
      ],
      "execution_count": 11,
      "outputs": [
        {
          "output_type": "stream",
          "text": [
            "Epoch 1/20\n",
            "96/96 [==============================] - 1462s 14s/step - loss: 1.5161 - accuracy: 0.7268 - val_loss: 0.7381 - val_accuracy: 0.8000\n",
            "Epoch 2/20\n",
            "96/96 [==============================] - 411s 4s/step - loss: 0.1752 - accuracy: 0.9413 - val_loss: 0.2363 - val_accuracy: 0.9190\n",
            "Epoch 3/20\n",
            "96/96 [==============================] - 420s 4s/step - loss: 0.1208 - accuracy: 0.9563 - val_loss: 0.1855 - val_accuracy: 0.9373\n",
            "Epoch 4/20\n",
            "96/96 [==============================] - 412s 4s/step - loss: 0.0913 - accuracy: 0.9704 - val_loss: 0.1744 - val_accuracy: 0.9346\n",
            "Epoch 5/20\n",
            "96/96 [==============================] - 416s 4s/step - loss: 0.0628 - accuracy: 0.9764 - val_loss: 0.1802 - val_accuracy: 0.9399\n",
            "Epoch 6/20\n",
            "96/96 [==============================] - 414s 4s/step - loss: 0.0633 - accuracy: 0.9765 - val_loss: 0.1503 - val_accuracy: 0.9490\n",
            "Epoch 7/20\n",
            "96/96 [==============================] - 415s 4s/step - loss: 0.0341 - accuracy: 0.9870 - val_loss: 0.1726 - val_accuracy: 0.9529\n",
            "Epoch 8/20\n",
            "96/96 [==============================] - 418s 4s/step - loss: 0.0192 - accuracy: 0.9933 - val_loss: 0.1632 - val_accuracy: 0.9542\n",
            "Epoch 9/20\n",
            "96/96 [==============================] - 413s 4s/step - loss: 0.0204 - accuracy: 0.9931 - val_loss: 0.2066 - val_accuracy: 0.9503\n",
            "Epoch 10/20\n",
            "96/96 [==============================] - 420s 4s/step - loss: 0.0174 - accuracy: 0.9943 - val_loss: 0.2063 - val_accuracy: 0.9373\n",
            "Epoch 11/20\n",
            "96/96 [==============================] - 418s 4s/step - loss: 0.0425 - accuracy: 0.9820 - val_loss: 0.2310 - val_accuracy: 0.9464\n"
          ],
          "name": "stdout"
        }
      ]
    },
    {
      "cell_type": "code",
      "metadata": {
        "colab": {
          "base_uri": "https://localhost:8080/"
        },
        "id": "bFsJl2kcz0al",
        "outputId": "1154ea9f-daab-44f7-efb6-e5a0369e4a19"
      },
      "source": [
        "# Evaluate the model.\r\n",
        "model.evaluate(test_data)"
      ],
      "execution_count": 12,
      "outputs": [
        {
          "output_type": "stream",
          "text": [
            "24/24 [==============================] - 32s 1s/step - loss: 0.2310 - accuracy: 0.9464\n"
          ],
          "name": "stdout"
        },
        {
          "output_type": "execute_result",
          "data": {
            "text/plain": [
              "[0.23096494376659393, 0.9464052319526672]"
            ]
          },
          "metadata": {
            "tags": []
          },
          "execution_count": 12
        }
      ]
    },
    {
      "cell_type": "code",
      "metadata": {
        "id": "tOWAad4uIpaO",
        "outputId": "67e47578-c69b-4980-f771-6d96bccf14f0",
        "colab": {
          "base_uri": "https://localhost:8080/",
          "height": 585
        }
      },
      "source": [
        "#plotting training values\r\n",
        "sns.set()\r\n",
        "\r\n",
        "acc = history.history['accuracy']\r\n",
        "val_acc = history.history['val_accuracy']\r\n",
        "loss = history.history['loss']\r\n",
        "val_loss = history.history['val_loss']\r\n",
        "epochs = range(1, len(loss) + 1)\r\n",
        "\r\n",
        "#accuracy plot\r\n",
        "plt.plot(epochs, acc, color='green', label='Training Accuracy')\r\n",
        "plt.plot(epochs, val_acc, color='blue', label='Validation Accuracy')\r\n",
        "plt.title('Training and Validation Accuracy')\r\n",
        "plt.ylabel('Accuracy')\r\n",
        "plt.xlabel('Epoch')\r\n",
        "plt.legend()\r\n",
        "\r\n",
        "plt.figure()\r\n",
        "#loss plot\r\n",
        "plt.plot(epochs, loss, color='pink', label='Training Loss')\r\n",
        "plt.plot(epochs, val_loss, color='red', label='Validation Loss')\r\n",
        "plt.title('Training and Validation Loss')\r\n",
        "plt.xlabel('Epoch')\r\n",
        "plt.ylabel('Loss')\r\n",
        "plt.legend()\r\n",
        "\r\n",
        "plt.show()"
      ],
      "execution_count": 13,
      "outputs": [
        {
          "output_type": "display_data",
          "data": {
            "image/png": "[encoded data removed]",
            "text/plain": [
              "<Figure size 432x288 with 1 Axes>"
            ]
          },
          "metadata": {
            "tags": []
          }
        },
        {
          "output_type": "display_data",
          "data": {
            "image/png": "[encoded data removed]",
            "text/plain": [
              "<Figure size 432x288 with 1 Axes>"
            ]
          },
          "metadata": {
            "tags": []
          }
        }
      ]
    },
    {
      "cell_type": "code",
      "metadata": {
        "id": "1hSb6Qn-Ip1W",
        "outputId": "9ede4ed5-5540-4fce-8152-ec1406b22e6a",
        "colab": {
          "base_uri": "https://localhost:8080/",
          "height": 286
        }
      },
      "source": [
        "#train data accuracy and loss\r\n",
        "plt.plot(history.history['val_loss'], label = 'training loss')\r\n",
        "plt.plot(history.history['val_accuracy'], label = 'training accuracy')\r\n",
        "plt.legend()"
      ],
      "execution_count": 14,
      "outputs": [
        {
          "output_type": "execute_result",
          "data": {
            "text/plain": [
              "<matplotlib.legend.Legend at 0x7fdb28694e10>"
            ]
          },
          "metadata": {
            "tags": []
          },
          "execution_count": 14
        },
        {
          "output_type": "display_data",
          "data": {
            "image/png": "[encoded data removed]",
            "text/plain": [
              "<Figure size 432x288 with 1 Axes>"
            ]
          },
          "metadata": {
            "tags": []
          }
        }
      ]
    },
    {
      "cell_type": "code",
      "metadata": {
        "id": "PcoOziXwIroW",
        "outputId": "d23da2c4-f579-4fba-9480-58453ff7d5a3",
        "colab": {
          "base_uri": "https://localhost:8080/",
          "height": 286
        }
      },
      "source": [
        "#test data accuracy and loss\r\n",
        "plt.plot(history.history['loss'], label = 'training loss')\r\n",
        "plt.plot(history.history['accuracy'], label = 'training accuracy')\r\n",
        "plt.legend()"
      ],
      "execution_count": 15,
      "outputs": [
        {
          "output_type": "execute_result",
          "data": {
            "text/plain": [
              "<matplotlib.legend.Legend at 0x7fdb280630f0>"
            ]
          },
          "metadata": {
            "tags": []
          },
          "execution_count": 15
        },
        {
          "output_type": "display_data",
          "data": {
            "image/png": "[encoded data removed]",
            "text/plain": [
              "<Figure size 432x288 with 1 Axes>"
            ]
          },
          "metadata": {
            "tags": []
          }
        }
      ]
    },
    {
      "cell_type": "code",
      "metadata": {
        "id": "im53-qPRIuat"
      },
      "source": [
        "#save file as h5 model\r\n",
        "model_json = model.to_json()\r\n",
        "with open(\"model.json\", \"w\") as json_file:\r\n",
        "    json_file.write(model_json)\r\n",
        "# serialize weights to HDF5\r\n",
        "\r\n",
        "model.save(f'{MODELS_PATH}/model_2020-12-28.h5')"
      ],
      "execution_count": 16,
      "outputs": []
    },
    {
      "cell_type": "code",
      "metadata": {
        "id": "vMZK1gCoI2hm"
      },
      "source": [
        "model = keras.models.load_model(f'{MODELS_PATH}/model_2020-12-28.h5')"
      ],
      "execution_count": null,
      "outputs": []
    },
    {
      "cell_type": "code",
      "metadata": {
        "colab": {
          "base_uri": "https://localhost:8080/"
        },
        "id": "gk84EseISq-m",
        "outputId": "d841c8be-a248-4e6b-b8eb-4543035d5d34"
      },
      "source": [
        " model.summary()"
      ],
      "execution_count": 17,
      "outputs": [
        {
          "output_type": "stream",
          "text": [
            "Model: \"sequential\"\n",
            "_________________________________________________________________\n",
            "Layer (type)                 Output Shape              Param #   \n",
            "=================================================================\n",
            "batch_normalization (BatchNo (None, 244, 244, 3)       12        \n",
            "_________________________________________________________________\n",
            "conv2d (Conv2D)              (None, 242, 242, 32)      896       \n",
            "_________________________________________________________________\n",
            "max_pooling2d (MaxPooling2D) (None, 121, 121, 32)      0         \n",
            "_________________________________________________________________\n",
            "conv2d_1 (Conv2D)            (None, 119, 119, 64)      18496     \n",
            "_________________________________________________________________\n",
            "max_pooling2d_1 (MaxPooling2 (None, 59, 59, 64)        0         \n",
            "_________________________________________________________________\n",
            "dropout (Dropout)            (None, 59, 59, 64)        0         \n",
            "_________________________________________________________________\n",
            "conv2d_2 (Conv2D)            (None, 57, 57, 128)       73856     \n",
            "_________________________________________________________________\n",
            "max_pooling2d_2 (MaxPooling2 (None, 28, 28, 128)       0         \n",
            "_________________________________________________________________\n",
            "dropout_1 (Dropout)          (None, 28, 28, 128)       0         \n",
            "_________________________________________________________________\n",
            "flatten (Flatten)            (None, 100352)            0         \n",
            "_________________________________________________________________\n",
            "dense (Dense)                (None, 256)               25690368  \n",
            "_________________________________________________________________\n",
            "dropout_2 (Dropout)          (None, 256)               0         \n",
            "_________________________________________________________________\n",
            "dense_1 (Dense)              (None, 3)                 771       \n",
            "=================================================================\n",
            "Total params: 25,784,399\n",
            "Trainable params: 25,784,393\n",
            "Non-trainable params: 6\n",
            "_________________________________________________________________\n"
          ],
          "name": "stdout"
        }
      ]
    },
    {
      "cell_type": "markdown",
      "metadata": {
        "id": "26wLVthP7DBz"
      },
      "source": [
        "##Grad-CAM"
      ]
    },
    {
      "cell_type": "code",
      "metadata": {
        "id": "BAvWT5Iu8IV_"
      },
      "source": [
        "# Display\r\n",
        "from IPython.display import Image\r\n",
        "import matplotlib.pyplot as plt\r\n",
        "import matplotlib.cm as cm\r\n"
      ],
      "execution_count": 18,
      "outputs": []
    },
    {
      "cell_type": "code",
      "metadata": {
        "colab": {
          "base_uri": "https://localhost:8080/",
          "height": 309
        },
        "id": "NaLjvHsG7VxG",
        "outputId": "27704e1e-8778-4a8a-f736-10a7f77b268b"
      },
      "source": [
        "#model_builder = keras.applications.xception.Xception\r\n",
        "img_size = (244, 244)\r\n",
        "#preprocess_input = keras.applications.xception.preprocess_input\r\n",
        "#decode_predictions = keras.applications.xception.decode_predictions\r\n",
        "\r\n",
        "last_conv_layer_name = \"dropout_1\"\r\n",
        "classifier_layer_names = [\r\n",
        "    \"flatten\",\r\n",
        "    \"dense\",\r\n",
        "    \"dropout_2\",\r\n",
        "    \"dense_1\",\r\n",
        "]\r\n",
        "\r\n",
        "# Loads our target image and returns the local path to it.\r\n",
        "img_path = keras.utils.get_file(\r\n",
        "    \"COVID-19 (1).png\", \"https://lh6.googleusercontent.com/ERcGHk77fbwQFHy6oVsFlzXek9J02NJez9R2Jnr3v37xal--D_zrTl_JDRUlprh6dYLvi9ZETVvJ80Erb5vX=w2560-h1297\"\r\n",
        ")\r\n",
        "\r\n",
        "display(Image(img_path))"
      ],
      "execution_count": 20,
      "outputs": [
        {
          "output_type": "stream",
          "text": [
            "Downloading data from https://lh6.googleusercontent.com/ERcGHk77fbwQFHy6oVsFlzXek9J02NJez9R2Jnr3v37xal--D_zrTl_JDRUlprh6dYLvi9ZETVvJ80Erb5vX=w2560-h1297\n",
            "24576/22911 [================================] - 0s 0us/step\n"
          ],
          "name": "stdout"
        },
        {
          "output_type": "display_data",
          "data": {
            "image/png": "[encoded data removed]",
            "text/plain": [
              "<IPython.core.display.Image object>"
            ]
          },
          "metadata": {
            "tags": []
          }
        }
      ]
    },
    {
      "cell_type": "code",
      "metadata": {
        "id": "_SSvixTY7FHs"
      },
      "source": [
        "def get_img_array(img_path, size):\r\n",
        "    # `img` is a PIL image of size 299x299\r\n",
        "    img = keras.preprocessing.image.load_img(img_path, target_size=size)\r\n",
        "    # `array` is a float32 Numpy array of shape (299, 299, 3)\r\n",
        "    array = keras.preprocessing.image.img_to_array(img)\r\n",
        "    # We add a dimension to transform our array into a \"batch\"\r\n",
        "    # of size (1, 299, 299, 3)\r\n",
        "    array = np.expand_dims(array, axis=0)\r\n",
        "    return array\r\n",
        "\r\n",
        "\r\n",
        "def make_gradcam_heatmap(\r\n",
        "    img_array, model, last_conv_layer_name, classifier_layer_names\r\n",
        "):\r\n",
        "    # First, we create a model that maps the input image to the activations\r\n",
        "    # of the last conv layer\r\n",
        "    last_conv_layer = model.get_layer(last_conv_layer_name)\r\n",
        "    last_conv_layer_model = keras.Model(model.inputs, last_conv_layer.output)\r\n",
        "\r\n",
        "    # Second, we create a model that maps the activations of the last conv\r\n",
        "    # layer to the final class predictions\r\n",
        "    classifier_input = keras.Input(shape=last_conv_layer.output.shape[1:])\r\n",
        "    x = classifier_input\r\n",
        "    for layer_name in classifier_layer_names:\r\n",
        "        x = model.get_layer(layer_name)(x)\r\n",
        "    classifier_model = keras.Model(classifier_input, x)\r\n",
        "\r\n",
        "    # Then, we compute the gradient of the top predicted class for our input image\r\n",
        "    # with respect to the activations of the last conv layer\r\n",
        "    with tf.GradientTape() as tape:\r\n",
        "        # Compute activations of the last conv layer and make the tape watch it\r\n",
        "        last_conv_layer_output = last_conv_layer_model(img_array)\r\n",
        "        tape.watch(last_conv_layer_output)\r\n",
        "        # Compute class predictions\r\n",
        "        preds = classifier_model(last_conv_layer_output)\r\n",
        "        top_pred_index = tf.argmax(preds[0])\r\n",
        "        top_class_channel = preds[:, top_pred_index]\r\n",
        "\r\n",
        "    # This is the gradient of the top predicted class with regard to\r\n",
        "    # the output feature map of the last conv layer\r\n",
        "    grads = tape.gradient(top_class_channel, last_conv_layer_output)\r\n",
        "\r\n",
        "    # This is a vector where each entry is the mean intensity of the gradient\r\n",
        "    # over a specific feature map channel\r\n",
        "    pooled_grads = tf.reduce_mean(grads, axis=(0, 1, 2))\r\n",
        "\r\n",
        "    # We multiply each channel in the feature map array\r\n",
        "    # by \"how important this channel is\" with regard to the top predicted class\r\n",
        "    last_conv_layer_output = last_conv_layer_output.numpy()[0]\r\n",
        "    pooled_grads = pooled_grads.numpy()\r\n",
        "    for i in range(pooled_grads.shape[-1]):\r\n",
        "        last_conv_layer_output[:, :, i] *= pooled_grads[i]\r\n",
        "\r\n",
        "    # The channel-wise mean of the resulting feature map\r\n",
        "    # is our heatmap of class activation\r\n",
        "    heatmap = np.mean(last_conv_layer_output, axis=-1)\r\n",
        "\r\n",
        "    # For visualization purpose, we will also normalize the heatmap between 0 & 1\r\n",
        "    heatmap = np.maximum(heatmap, 0) / np.max(heatmap)\r\n",
        "    return heatmap"
      ],
      "execution_count": 21,
      "outputs": []
    },
    {
      "cell_type": "code",
      "metadata": {
        "colab": {
          "base_uri": "https://localhost:8080/",
          "height": 335
        },
        "id": "3lXdiaWo7Fus",
        "outputId": "7ed78702-7736-4e41-bfee-2abdac154d99"
      },
      "source": [
        "# Prepare image\r\n",
        "# img_array = preprocess_input(get_img_array(img_path, size=img_size))\r\n",
        "img_array = get_img_array(img_path, size=img_size)\r\n",
        "# Make model\r\n",
        "# model = model_builder(weights=\"imagenet\")\r\n",
        "\r\n",
        "# Print what the top predicted class is.\r\n",
        "preds = model.predict(img_array)\r\n",
        "for class_name, pred  in zip(class_names, preds.round(decimals=2).reshape(3)):\r\n",
        "  print(f'{class_name}: {pred}')\r\n",
        "\r\n",
        "# Generate class activation heatmap\r\n",
        "heatmap = make_gradcam_heatmap(\r\n",
        "    img_array, model, last_conv_layer_name, classifier_layer_names\r\n",
        ")\r\n",
        "\r\n",
        "# Display heatmap\r\n",
        "plt.matshow(heatmap)\r\n",
        "plt.show()"
      ],
      "execution_count": 22,
      "outputs": [
        {
          "output_type": "stream",
          "text": [
            "COVID-19: 1.0\n",
            "NORMAL: 0.0\n",
            "Viral Pneumonia: 0.0\n"
          ],
          "name": "stdout"
        },
        {
          "output_type": "display_data",
          "data": {
            "image/png": "[encoded data removed]",
            "text/plain": [
              "<Figure size 288x288 with 1 Axes>"
            ]
          },
          "metadata": {
            "tags": []
          }
        }
      ]
    },
    {
      "cell_type": "code",
      "metadata": {
        "colab": {
          "base_uri": "https://localhost:8080/",
          "height": 273
        },
        "id": "9DnqftT8Canc",
        "outputId": "7bc1e648-2822-42b4-abbb-344cbe469a83"
      },
      "source": [
        "# We load the original image\r\n",
        "img = keras.preprocessing.image.load_img(img_path)\r\n",
        "img = keras.preprocessing.image.img_to_array(img)\r\n",
        "\r\n",
        "# We rescale heatmap to a range 0-255\r\n",
        "heatmap = np.uint8(255 * heatmap)\r\n",
        "\r\n",
        "# We use jet colormap to colorize heatmap\r\n",
        "jet = cm.get_cmap(\"jet\")\r\n",
        "\r\n",
        "# We use RGB values of the colormap\r\n",
        "jet_colors = jet(np.arange(256))[:, :3]\r\n",
        "jet_heatmap = jet_colors[heatmap]\r\n",
        "\r\n",
        "# We create an image with RGB colorized heatmap\r\n",
        "jet_heatmap = keras.preprocessing.image.array_to_img(jet_heatmap)\r\n",
        "jet_heatmap = jet_heatmap.resize((img.shape[1], img.shape[0]))\r\n",
        "jet_heatmap = keras.preprocessing.image.img_to_array(jet_heatmap)\r\n",
        "\r\n",
        "# Superimpose the heatmap on original image\r\n",
        "superimposed_img = jet_heatmap * 0.4 + img\r\n",
        "superimposed_img = keras.preprocessing.image.array_to_img(superimposed_img)\r\n",
        "\r\n",
        "# Save the superimposed image\r\n",
        "save_path = \"elephant_cam.jpg\"\r\n",
        "superimposed_img.save(save_path)\r\n",
        "\r\n",
        "# Display Grad CAM\r\n",
        "display(Image(save_path))\r\n"
      ],
      "execution_count": 23,
      "outputs": [
        {
          "output_type": "display_data",
          "data": {
            "image/jpeg": "[encoded data removed]",
            "text/plain": [
              "<IPython.core.display.Image object>"
            ]
          },
          "metadata": {
            "tags": []
          }
        }
      ]
    }
  ]
}