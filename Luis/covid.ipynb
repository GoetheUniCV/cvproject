{
  "nbformat": 4,
  "nbformat_minor": 0,
  "metadata": {
    "colab": {
      "name": "Untitled1.ipynb",
      "provenance": [],
      "authorship_tag": "ABX9TyMqUzKz/XBujluDN4dd3Y4f",
      "include_colab_link": true
    },
    "kernelspec": {
      "name": "python3",
      "display_name": "Python 3"
    }
  },
  "cells": [
    {
      "cell_type": "markdown",
      "metadata": {
        "id": "view-in-github",
        "colab_type": "text"
      },
      "source": [
        "<a href=\"https://colab.research.google.com/github/GoetheUniCV/cvproject/blob/main/Luis/covid.ipynb\" target=\"_parent\"><img src=\"https://colab.research.google.com/assets/colab-badge.svg\" alt=\"Open In Colab\"/></a>"
      ]
    },
    {
      "cell_type": "markdown",
      "metadata": {
        "id": "U0A4WXxX-6rA"
      },
      "source": [
        "Testnotebook von Luis"
      ]
    },
    {
      "cell_type": "code",
      "metadata": {
        "id": "RoE_CSsQ-4i-"
      },
      "source": [
        "#import librarires\r\n",
        "\r\n",
        "#!pip install -U keras-tuner\r\n",
        "\r\n",
        "import numpy as np\r\n",
        "import pandas as pd\r\n",
        "\r\n",
        "import kerastuner as kt\r\n",
        "from tensorflow import keras\r\n",
        "import tensorflow as tf\r\n",
        "from kerastuner.tuners import RandomSearch\r\n",
        "from kerastuner.engine.hyperparameters import HyperParameter as hp\r\n",
        "from keras.layers import Dense,Dropout,Activation,Add,MaxPooling2D,Conv2D,Flatten\r\n",
        "from keras.models import Sequential \r\n",
        "from keras.preprocessing.image import ImageDataGenerator\r\n",
        "import numpy as np\r\n",
        "import matplotlib.pyplot as plt\r\n",
        "from keras.applications import VGG19\r\n",
        "from keras import layers\r\n",
        "from keras.preprocessing import image\r\n",
        "import matplotlib.pyplot as plt\r\n",
        "import seaborn as sns"
      ],
      "execution_count": 6,
      "outputs": []
    },
    {
      "cell_type": "code",
      "metadata": {
        "id": "YODzOjnUN8wI"
      },
      "source": [
        ""
      ],
      "execution_count": null,
      "outputs": []
    }
  ]
}