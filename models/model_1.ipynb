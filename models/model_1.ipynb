{
  "nbformat": 4,
  "nbformat_minor": 0,
  "metadata": {
    "colab": {
      "name": "Untitled0.ipynb",
      "provenance": [],
      "authorship_tag": "ABX9TyPunVcTwzyB04RJT5eTEFH5",
      "include_colab_link": true
    },
    "kernelspec": {
      "name": "python3",
      "display_name": "Python 3"
    },
    "accelerator": "GPU"
  },
  "cells": [
    {
      "cell_type": "markdown",
      "metadata": {
        "id": "view-in-github",
        "colab_type": "text"
      },
      "source": [
        "<a href=\"https://colab.research.google.com/github/GoetheUniCV/cvproject/blob/main/models/model_1.ipynb\" target=\"_parent\"><img src=\"https://colab.research.google.com/assets/colab-badge.svg\" alt=\"Open In Colab\"/></a>"
      ]
    },
    {
      "cell_type": "markdown",
      "metadata": {
        "id": "Mo-qxrzb1bFr"
      },
      "source": [
        "# CNN Model\r\n",
        "\r\n"
      ]
    },
    {
      "cell_type": "markdown",
      "metadata": {
        "id": "U0A4WXxX-6rA"
      },
      "source": [
        "##1. Setup\r\n",
        "###1.1 Python Environment\r\n",
        "Almost all required packages are preinstalled, except _kerastuner_. You can install it with `!pip install -U keras-tuner`.\r\n",
        "\r\n",
        "###1.2 Google Drive\r\n",
        "####1.2.1 Structure\r\n",
        "Create the following directory structure in your Drive:\r\n",
        "```\r\n",
        "MyDrive\r\n",
        "└── cvproject\r\n",
        "    ├── COVID-10 Radiography Database\r\n",
        "    │   ├── COVID-19\r\n",
        "    │   ├── NORMAL\r\n",
        "    │   └── Viral Pneumonia\r\n",
        "    └── models\r\n",
        "```\r\n",
        "####1.2.2 Upload COVID-19 Dataset\r\n",
        "The directory _COVID-10 Radiography Database_ must contain the dataset from Kaggle (https://www.kaggle.com/tawsifurrahman/covid19-radiography-database).\r\n",
        "\r\n",
        "___\r\n"
      ]
    },
    {
      "cell_type": "code",
      "metadata": {
        "id": "knQA0YZ9aUKA",
        "colab": {
          "base_uri": "https://localhost:8080/"
        },
        "outputId": "7da7b11c-2fcf-4ceb-f40c-22aad8484db5"
      },
      "source": [
        "!pip install -U keras-tuner"
      ],
      "execution_count": 1,
      "outputs": [
        {
          "output_type": "stream",
          "text": [
            "Collecting keras-tuner\n",
            "\u001b[?25l  Downloading https://files.pythonhosted.org/packages/20/ec/1ef246787174b1e2bb591c95f29d3c1310070cad877824f907faba3dade9/keras-tuner-1.0.2.tar.gz (62kB)\n",
            "\r\u001b[K     |█████▏                          | 10kB 25.8MB/s eta 0:00:01\r\u001b[K     |██████████▍                     | 20kB 7.6MB/s eta 0:00:01\r\u001b[K     |███████████████▋                | 30kB 5.3MB/s eta 0:00:01\r\u001b[K     |████████████████████▉           | 40kB 5.0MB/s eta 0:00:01\r\u001b[K     |██████████████████████████      | 51kB 2.9MB/s eta 0:00:01\r\u001b[K     |███████████████████████████████▎| 61kB 3.2MB/s eta 0:00:01\r\u001b[K     |████████████████████████████████| 71kB 2.9MB/s \n",
            "\u001b[?25hRequirement already satisfied, skipping upgrade: packaging in /usr/local/lib/python3.6/dist-packages (from keras-tuner) (20.8)\n",
            "Requirement already satisfied, skipping upgrade: future in /usr/local/lib/python3.6/dist-packages (from keras-tuner) (0.16.0)\n",
            "Requirement already satisfied, skipping upgrade: numpy in /usr/local/lib/python3.6/dist-packages (from keras-tuner) (1.19.5)\n",
            "Requirement already satisfied, skipping upgrade: tabulate in /usr/local/lib/python3.6/dist-packages (from keras-tuner) (0.8.7)\n",
            "Collecting terminaltables\n",
            "  Downloading https://files.pythonhosted.org/packages/9b/c4/4a21174f32f8a7e1104798c445dacdc1d4df86f2f26722767034e4de4bff/terminaltables-3.1.0.tar.gz\n",
            "Collecting colorama\n",
            "  Downloading https://files.pythonhosted.org/packages/44/98/5b86278fbbf250d239ae0ecb724f8572af1c91f4a11edf4d36a206189440/colorama-0.4.4-py2.py3-none-any.whl\n",
            "Requirement already satisfied, skipping upgrade: tqdm in /usr/local/lib/python3.6/dist-packages (from keras-tuner) (4.41.1)\n",
            "Requirement already satisfied, skipping upgrade: requests in /usr/local/lib/python3.6/dist-packages (from keras-tuner) (2.23.0)\n",
            "Requirement already satisfied, skipping upgrade: scipy in /usr/local/lib/python3.6/dist-packages (from keras-tuner) (1.4.1)\n",
            "Requirement already satisfied, skipping upgrade: scikit-learn in /usr/local/lib/python3.6/dist-packages (from keras-tuner) (0.22.2.post1)\n",
            "Requirement already satisfied, skipping upgrade: pyparsing>=2.0.2 in /usr/local/lib/python3.6/dist-packages (from packaging->keras-tuner) (2.4.7)\n",
            "Requirement already satisfied, skipping upgrade: idna<3,>=2.5 in /usr/local/lib/python3.6/dist-packages (from requests->keras-tuner) (2.10)\n",
            "Requirement already satisfied, skipping upgrade: certifi>=2017.4.17 in /usr/local/lib/python3.6/dist-packages (from requests->keras-tuner) (2020.12.5)\n",
            "Requirement already satisfied, skipping upgrade: chardet<4,>=3.0.2 in /usr/local/lib/python3.6/dist-packages (from requests->keras-tuner) (3.0.4)\n",
            "Requirement already satisfied, skipping upgrade: urllib3!=1.25.0,!=1.25.1,<1.26,>=1.21.1 in /usr/local/lib/python3.6/dist-packages (from requests->keras-tuner) (1.24.3)\n",
            "Requirement already satisfied, skipping upgrade: joblib>=0.11 in /usr/local/lib/python3.6/dist-packages (from scikit-learn->keras-tuner) (1.0.0)\n",
            "Building wheels for collected packages: keras-tuner, terminaltables\n",
            "  Building wheel for keras-tuner (setup.py) ... \u001b[?25l\u001b[?25hdone\n",
            "  Created wheel for keras-tuner: filename=keras_tuner-1.0.2-cp36-none-any.whl size=78939 sha256=3e4a0df62e7ff0663a9025ba30dd118ce290a8bcbeaaced88165f31dc2975db2\n",
            "  Stored in directory: /root/.cache/pip/wheels/bb/a1/8a/7c3de0efb3707a1701b36ebbfdbc4e67aedf6d4943a1f463d6\n",
            "  Building wheel for terminaltables (setup.py) ... \u001b[?25l\u001b[?25hdone\n",
            "  Created wheel for terminaltables: filename=terminaltables-3.1.0-cp36-none-any.whl size=15358 sha256=1c261df229ec43931162fc9b29aee4cf559ca04a68738806c8372adab6ca36c2\n",
            "  Stored in directory: /root/.cache/pip/wheels/30/6b/50/6c75775b681fb36cdfac7f19799888ef9d8813aff9e379663e\n",
            "Successfully built keras-tuner terminaltables\n",
            "Installing collected packages: terminaltables, colorama, keras-tuner\n",
            "Successfully installed colorama-0.4.4 keras-tuner-1.0.2 terminaltables-3.1.0\n"
          ],
          "name": "stdout"
        }
      ]
    },
    {
      "cell_type": "code",
      "metadata": {
        "id": "RoE_CSsQ-4i-"
      },
      "source": [
        "import os\r\n",
        "import sys\r\n",
        "\r\n",
        "import numpy as np\r\n",
        "import pandas as pd\r\n",
        "import matplotlib.pyplot as plt\r\n",
        "import seaborn as sns\r\n",
        "import tensorflow as tf\r\n",
        "from tensorflow import keras\r\n",
        "import kerastuner as kt\r\n",
        "from kerastuner.tuners import RandomSearch\r\n",
        "from kerastuner.engine.hyperparameters import HyperParameter as hp\r\n",
        "from keras.layers import Dense,Dropout,Activation,Add,MaxPooling2D,Conv2D,Flatten\r\n",
        "from keras.models import Sequential \r\n",
        "from keras.preprocessing.image import ImageDataGenerator\r\n",
        "from keras.applications import VGG19\r\n",
        "from keras import layers\r\n",
        "from keras.preprocessing import image\r\n",
        "from google.colab import drive\r\n",
        "import matplotlib.cm as cm\r\n",
        "\r\n",
        "from keras import backend as K\r\n"
      ],
      "execution_count": 2,
      "outputs": []
    },
    {
      "cell_type": "code",
      "metadata": {
        "id": "YODzOjnUN8wI",
        "colab": {
          "base_uri": "https://localhost:8080/"
        },
        "outputId": "a697012f-92f0-4425-926a-2c4b7fac5ab0"
      },
      "source": [
        "# This mounts your Google Drive to the Colab VM.\r\n",
        "drive.mount('/content/drive', force_remount=True)\r\n",
        "\r\n",
        "# Foldername in your Drive where you have saved the COVID-19 data.\r\n",
        "PROJECT_PATH = '/content/drive/My Drive/cvproject/'\r\n",
        "DATABASE_PATH = f'{PROJECT_PATH}/COVID-19 Radiography Database'\r\n",
        "MODELS_PATH = f'{PROJECT_PATH}/models'\r\n",
        "\r\n",
        "#assert FOLDERNAME is not None, \"[!] Enter the foldername.\"\r\n",
        "\r\n",
        "# now that we've mounted your Drive, this ensures that\r\n",
        "# the Python interpreter of the Colab VM can load\r\n",
        "# python files from within it.\r\n",
        "#sys.path.append(FOLDERPATH)"
      ],
      "execution_count": 3,
      "outputs": [
        {
          "output_type": "stream",
          "text": [
            "Mounted at /content/drive\n"
          ],
          "name": "stdout"
        }
      ]
    },
    {
      "cell_type": "code",
      "metadata": {
        "colab": {
          "base_uri": "https://localhost:8080/"
        },
        "id": "VrWrml9Qcwf0",
        "outputId": "cf7f8d14-8f62-49b5-b575-d1f094ea161d"
      },
      "source": [
        "# Check if database is complete.\r\n",
        "try:\r\n",
        "  if len(os.listdir(f'{DATABASE_PATH}/COVID-19')) == 1143:\r\n",
        "    print('COVID-19 complete.')\r\n",
        "  else:\r\n",
        "    print('COVID-19 incomplete.')\r\n",
        "\r\n",
        "  if len(os.listdir(f'{DATABASE_PATH}/NORMAL')) == 1341:\r\n",
        "    print('NORMAL complete.')\r\n",
        "  else:\r\n",
        "    print('NORMAL incomplete.')\r\n",
        "\r\n",
        "  if len(os.listdir(f'{DATABASE_PATH}/Viral Pneumonia')) == 1345:\r\n",
        "    print('Viral Pneumonia complete.')\r\n",
        "  else:\r\n",
        "    print('Viral Pneumonia incomplete.')\r\n",
        "except FileNotFoundError:\r\n",
        "  print(\"Warning: Some directories are missing!\")\r\n",
        "\r\n"
      ],
      "execution_count": 4,
      "outputs": [
        {
          "output_type": "stream",
          "text": [
            "COVID-19 complete.\n",
            "NORMAL complete.\n",
            "Viral Pneumonia complete.\n"
          ],
          "name": "stdout"
        }
      ]
    },
    {
      "cell_type": "code",
      "metadata": {
        "colab": {
          "base_uri": "https://localhost:8080/"
        },
        "id": "TL_UxCAZAay9",
        "outputId": "db8bcb93-3ef7-41da-e753-cb446c5409cb"
      },
      "source": [
        "# Show label name and its encoded value:\r\n",
        "class_names =  [\"COVID-19\",\"NORMAL\",\"Viral Pneumonia\"]\r\n",
        "\r\n",
        "for i, class_name in enumerate(class_names):\r\n",
        "    print(f'{class_name}: {i}')"
      ],
      "execution_count": 5,
      "outputs": [
        {
          "output_type": "stream",
          "text": [
            "COVID-19: 0\n",
            "NORMAL: 1\n",
            "Viral Pneumonia: 2\n"
          ],
          "name": "stdout"
        }
      ]
    },
    {
      "cell_type": "code",
      "metadata": {
        "colab": {
          "base_uri": "https://localhost:8080/"
        },
        "id": "ixqyCb84dfsb",
        "outputId": "d439a62e-063b-42c8-8e80-44f29863e191"
      },
      "source": [
        "# NOTE: Bildgröße aller Bilder wird auf 244 x 244 geändert. Leider sind die\r\n",
        "#       Covid Bilder sehr klein. Normale und Lungenentzündung sind 1024 x 1024.\r\n",
        "\r\n",
        "# NOTE: removed '= defect_tree ='\r\n",
        "\r\n",
        "train_data = tf.keras.preprocessing.image_dataset_from_directory(\r\n",
        "    directory=DATABASE_PATH,\r\n",
        "    labels=\"inferred\",\r\n",
        "    label_mode=\"int\",\r\n",
        "    class_names=class_names,\r\n",
        "    color_mode=\"rgb\",\r\n",
        "    batch_size=32,\r\n",
        "    image_size=(244, 244),\r\n",
        "    shuffle=True,\r\n",
        "    seed=123,\r\n",
        "    validation_split=0.2,\r\n",
        "    subset=\"training\",\r\n",
        "    interpolation=\"bilinear\",\r\n",
        "    follow_links=False,\r\n",
        ")\r\n",
        "test_data = tf.keras.preprocessing.image_dataset_from_directory(\r\n",
        "    directory=DATABASE_PATH,\r\n",
        "    labels=\"inferred\",\r\n",
        "    label_mode=\"int\",\r\n",
        "    class_names=class_names,\r\n",
        "    color_mode=\"rgb\",\r\n",
        "    batch_size=32,\r\n",
        "    image_size=(244, 244),\r\n",
        "    shuffle=True,\r\n",
        "    seed=123,\r\n",
        "    validation_split=0.2,\r\n",
        "    subset=\"validation\",\r\n",
        "    interpolation=\"bilinear\",\r\n",
        "    follow_links=False,\r\n",
        ")"
      ],
      "execution_count": 6,
      "outputs": [
        {
          "output_type": "stream",
          "text": [
            "Found 3829 files belonging to 3 classes.\n",
            "Using 3064 files for training.\n",
            "Found 3829 files belonging to 3 classes.\n",
            "Using 765 files for validation.\n"
          ],
          "name": "stdout"
        }
      ]
    },
    {
      "cell_type": "code",
      "metadata": {
        "id": "iUfrw9lFzazz"
      },
      "source": [
        "# Defining the CNN.\r\n",
        "model_1 = tf.keras.models.Sequential([\r\n",
        "  layers.Conv2D(64, 5, activation='relu'),\r\n",
        "  layers.MaxPooling2D(),\r\n",
        "  layers.Flatten(),\r\n",
        "  layers.Dense(256, activation='relu'),\r\n",
        "  layers.Dense(3, activation= 'softmax')\r\n",
        "])\r\n",
        "\r\n",
        "model = model_1"
      ],
      "execution_count": 7,
      "outputs": []
    },
    {
      "cell_type": "code",
      "metadata": {
        "id": "xZyUWjxLzmkE",
        "colab": {
          "base_uri": "https://localhost:8080/",
          "height": 1000
        },
        "outputId": "ae7d9fbb-24c1-4a0b-a9a4-cb72e9ecccf0"
      },
      "source": [
        "# Avoid overfitting...\r\n",
        "early = tf.keras.callbacks.EarlyStopping(monitor='val_loss',patience=5)\r\n",
        "\r\n",
        "# Compile the model.\r\n",
        "model.compile(optimizer='adam',\r\n",
        "              loss='sparse_categorical_crossentropy',\r\n",
        "              metrics=['accuracy'])\r\n",
        "\r\n",
        "# Fit the model.\r\n",
        "history=model.fit(train_data,\r\n",
        "                  validation_data=test_data,\r\n",
        "                  batch_size=32,epochs = 20,\r\n",
        "                  callbacks=[early])\r\n",
        "\r\n",
        "# Evaluate the model.\r\n",
        "model.evaluate(test_data)\r\n",
        "\r\n",
        "# plotting training values\r\n",
        "sns.set()\r\n",
        "\r\n",
        "acc = history.history['accuracy']\r\n",
        "val_acc = history.history['val_accuracy']\r\n",
        "loss = history.history['loss']\r\n",
        "val_loss = history.history['val_loss']\r\n",
        "epochs = range(1, len(loss) + 1)\r\n",
        "\r\n",
        "#accuracy plot\r\n",
        "plt.plot(epochs, acc, color='green', label='Training Accuracy')\r\n",
        "plt.plot(epochs, val_acc, color='blue', label='Validation Accuracy')\r\n",
        "plt.title('Training and Validation Accuracy')\r\n",
        "plt.ylabel('Accuracy')\r\n",
        "plt.xlabel('Epoch')\r\n",
        "plt.legend()\r\n",
        "plt.figure()\r\n",
        "\r\n",
        "#loss plot\r\n",
        "plt.plot(epochs, loss, color='pink', label='Training Loss')\r\n",
        "plt.plot(epochs, val_loss, color='red', label='Validation Loss')\r\n",
        "plt.title('Training and Validation Loss')\r\n",
        "plt.xlabel('Epoch')\r\n",
        "plt.ylabel('Loss')\r\n",
        "plt.legend()\r\n",
        "plt.show()\r\n",
        "\r\n",
        "#train data accuracy and loss\r\n",
        "plt.plot(history.history['val_loss'], label = 'training loss')\r\n",
        "plt.plot(history.history['val_accuracy'], label = 'training accuracy')\r\n",
        "plt.legend()\r\n",
        "plt.show()\r\n",
        "\r\n",
        "#test data accuracy and loss\r\n",
        "plt.plot(history.history['loss'], label = 'training loss')\r\n",
        "plt.plot(history.history['accuracy'], label = 'training accuracy')\r\n",
        "plt.legend()\r\n",
        "\r\n",
        "# Save model as .h5 file.\r\n",
        "model.save(f'{MODELS_PATH}/model_2021-01-20_{i+1}.h5')\r\n",
        "\r\n",
        "# Delete the data for this model from RAM/GPU/wherever...\r\n",
        "del model\r\n",
        "del history\r\n",
        "K.clear_session()\r\n"
      ],
      "execution_count": 8,
      "outputs": [
        {
          "output_type": "stream",
          "text": [
            "Epoch 1/20\n",
            "96/96 [==============================] - 2393s 23s/step - loss: 6006.0840 - accuracy: 0.6306 - val_loss: 2.0979 - val_accuracy: 0.8902\n",
            "Epoch 2/20\n",
            "96/96 [==============================] - 50s 494ms/step - loss: 0.7212 - accuracy: 0.9270 - val_loss: 2.5363 - val_accuracy: 0.8549\n",
            "Epoch 3/20\n",
            "96/96 [==============================] - 50s 492ms/step - loss: 0.7289 - accuracy: 0.9300 - val_loss: 2.5753 - val_accuracy: 0.8562\n",
            "Epoch 4/20\n",
            "96/96 [==============================] - 50s 491ms/step - loss: 0.3795 - accuracy: 0.9515 - val_loss: 3.0881 - val_accuracy: 0.8418\n",
            "Epoch 5/20\n",
            "96/96 [==============================] - 50s 492ms/step - loss: 0.4672 - accuracy: 0.9663 - val_loss: 3.0778 - val_accuracy: 0.8536\n",
            "Epoch 6/20\n",
            "96/96 [==============================] - 50s 492ms/step - loss: 0.1133 - accuracy: 0.9764 - val_loss: 3.1711 - val_accuracy: 0.8601\n",
            "24/24 [==============================] - 10s 272ms/step - loss: 3.1711 - accuracy: 0.8601\n"
          ],
          "name": "stdout"
        },
        {
          "output_type": "display_data",
          "data": {
            "image/png": "[encoded data removed]",
            "text/plain": [
              "<Figure size 432x288 with 1 Axes>"
            ]
          },
          "metadata": {
            "tags": []
          }
        },
        {
          "output_type": "display_data",
          "data": {
            "image/png": "[encoded data removed]",
            "text/plain": [
              "<Figure size 432x288 with 1 Axes>"
            ]
          },
          "metadata": {
            "tags": []
          }
        },
        {
          "output_type": "display_data",
          "data": {
            "image/png": "[encoded data removed]",
            "text/plain": [
              "<Figure size 432x288 with 1 Axes>"
            ]
          },
          "metadata": {
            "tags": []
          }
        },
        {
          "output_type": "display_data",
          "data": {
            "image/png": "[encoded data removed]",
            "text/plain": [
              "<Figure size 432x288 with 1 Axes>"
            ]
          },
          "metadata": {
            "tags": []
          }
        }
      ]
    }
  ]
}