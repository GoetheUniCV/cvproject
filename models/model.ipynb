{
  "nbformat": 4,
  "nbformat_minor": 0,
  "metadata": {
    "colab": {
      "name": "Untitled7.ipynb",
      "provenance": [],
      "authorship_tag": "ABX9TyPVOIJtDcbk/28Nn+j3ktda",
      "include_colab_link": true
    },
    "kernelspec": {
      "name": "python3",
      "display_name": "Python 3"
    }
  },
  "cells": [
    {
      "cell_type": "markdown",
      "metadata": {
        "id": "view-in-github",
        "colab_type": "text"
      },
      "source": [
        "<a href=\"https://colab.research.google.com/github/GoetheUniCV/cvproject/blob/main/models/model.ipynb\" target=\"_parent\"><img src=\"https://colab.research.google.com/assets/colab-badge.svg\" alt=\"Open In Colab\"/></a>"
      ]
    },
    {
      "cell_type": "markdown",
      "metadata": {
        "id": "Mo-qxrzb1bFr"
      },
      "source": [
        "# CNN Model\r\n",
        "\r\n"
      ]
    },
    {
      "cell_type": "markdown",
      "metadata": {
        "id": "U0A4WXxX-6rA"
      },
      "source": [
        "#Grad-CAM for COVID-19\r\n",
        "\r\n",
        "##1. Setup\r\n",
        "###1.1 Python Environment\r\n",
        "Almost all required packages are preinstalled, except _kerastuner_. You can install it with `!pip install -U keras-tuner`.\r\n",
        "\r\n",
        "###1.2 Google Drive\r\n",
        "####1.2.1 Structure\r\n",
        "Create the following directory structure in your Drive:\r\n",
        "```\r\n",
        "MyDrive\r\n",
        "└── cvproject\r\n",
        "    ├── COVID-10 Radiography Database\r\n",
        "    │   ├── COVID-19\r\n",
        "    │   ├── NORMAL\r\n",
        "    │   └── Viral Pneumonia\r\n",
        "    └── models\r\n",
        "```\r\n",
        "####1.2.2 Upload COVID-19 Dataset\r\n",
        "The directory _COVID-10 Radiography Database_ must contain the dataset from Kaggle (https://www.kaggle.com/tawsifurrahman/covid19-radiography-database).\r\n",
        "\r\n",
        "___\r\n"
      ]
    },
    {
      "cell_type": "code",
      "metadata": {
        "id": "knQA0YZ9aUKA",
        "colab": {
          "base_uri": "https://localhost:8080/"
        },
        "outputId": "8a7c6b36-9bc3-4ac8-9311-1fc2caf4accb"
      },
      "source": [
        "!pip install -U keras-tuner"
      ],
      "execution_count": null,
      "outputs": [
        {
          "output_type": "stream",
          "text": [
            "Collecting keras-tuner\n",
            "\u001b[?25l  Downloading https://files.pythonhosted.org/packages/20/ec/1ef246787174b1e2bb591c95f29d3c1310070cad877824f907faba3dade9/keras-tuner-1.0.2.tar.gz (62kB)\n",
            "\r\u001b[K     |█████▏                          | 10kB 18.6MB/s eta 0:00:01\r\u001b[K     |██████████▍                     | 20kB 12.2MB/s eta 0:00:01\r\u001b[K     |███████████████▋                | 30kB 9.4MB/s eta 0:00:01\r\u001b[K     |████████████████████▉           | 40kB 8.9MB/s eta 0:00:01\r\u001b[K     |██████████████████████████      | 51kB 5.3MB/s eta 0:00:01\r\u001b[K     |███████████████████████████████▎| 61kB 5.9MB/s eta 0:00:01\r\u001b[K     |████████████████████████████████| 71kB 4.1MB/s \n",
            "\u001b[?25hRequirement already satisfied, skipping upgrade: packaging in /usr/local/lib/python3.6/dist-packages (from keras-tuner) (20.8)\n",
            "Requirement already satisfied, skipping upgrade: future in /usr/local/lib/python3.6/dist-packages (from keras-tuner) (0.16.0)\n",
            "Requirement already satisfied, skipping upgrade: numpy in /usr/local/lib/python3.6/dist-packages (from keras-tuner) (1.19.4)\n",
            "Requirement already satisfied, skipping upgrade: tabulate in /usr/local/lib/python3.6/dist-packages (from keras-tuner) (0.8.7)\n",
            "Collecting terminaltables\n",
            "  Downloading https://files.pythonhosted.org/packages/9b/c4/4a21174f32f8a7e1104798c445dacdc1d4df86f2f26722767034e4de4bff/terminaltables-3.1.0.tar.gz\n",
            "Collecting colorama\n",
            "  Downloading https://files.pythonhosted.org/packages/44/98/5b86278fbbf250d239ae0ecb724f8572af1c91f4a11edf4d36a206189440/colorama-0.4.4-py2.py3-none-any.whl\n",
            "Requirement already satisfied, skipping upgrade: tqdm in /usr/local/lib/python3.6/dist-packages (from keras-tuner) (4.41.1)\n",
            "Requirement already satisfied, skipping upgrade: requests in /usr/local/lib/python3.6/dist-packages (from keras-tuner) (2.23.0)\n",
            "Requirement already satisfied, skipping upgrade: scipy in /usr/local/lib/python3.6/dist-packages (from keras-tuner) (1.4.1)\n",
            "Requirement already satisfied, skipping upgrade: scikit-learn in /usr/local/lib/python3.6/dist-packages (from keras-tuner) (0.22.2.post1)\n",
            "Requirement already satisfied, skipping upgrade: pyparsing>=2.0.2 in /usr/local/lib/python3.6/dist-packages (from packaging->keras-tuner) (2.4.7)\n",
            "Requirement already satisfied, skipping upgrade: certifi>=2017.4.17 in /usr/local/lib/python3.6/dist-packages (from requests->keras-tuner) (2020.12.5)\n",
            "Requirement already satisfied, skipping upgrade: urllib3!=1.25.0,!=1.25.1,<1.26,>=1.21.1 in /usr/local/lib/python3.6/dist-packages (from requests->keras-tuner) (1.24.3)\n",
            "Requirement already satisfied, skipping upgrade: chardet<4,>=3.0.2 in /usr/local/lib/python3.6/dist-packages (from requests->keras-tuner) (3.0.4)\n",
            "Requirement already satisfied, skipping upgrade: idna<3,>=2.5 in /usr/local/lib/python3.6/dist-packages (from requests->keras-tuner) (2.10)\n",
            "Requirement already satisfied, skipping upgrade: joblib>=0.11 in /usr/local/lib/python3.6/dist-packages (from scikit-learn->keras-tuner) (1.0.0)\n",
            "Building wheels for collected packages: keras-tuner, terminaltables\n",
            "  Building wheel for keras-tuner (setup.py) ... \u001b[?25l\u001b[?25hdone\n",
            "  Created wheel for keras-tuner: filename=keras_tuner-1.0.2-cp36-none-any.whl size=78939 sha256=61dcf9cb25ae761831a7ca83abb39c6b4da6ad4403bd0fca1e410a392a42bb51\n",
            "  Stored in directory: /root/.cache/pip/wheels/bb/a1/8a/7c3de0efb3707a1701b36ebbfdbc4e67aedf6d4943a1f463d6\n",
            "  Building wheel for terminaltables (setup.py) ... \u001b[?25l\u001b[?25hdone\n",
            "  Created wheel for terminaltables: filename=terminaltables-3.1.0-cp36-none-any.whl size=15358 sha256=0099396b9a34f3d489cb5795b4f6c7f5d2cb73a643dbc35baa6677d43d55a56b\n",
            "  Stored in directory: /root/.cache/pip/wheels/30/6b/50/6c75775b681fb36cdfac7f19799888ef9d8813aff9e379663e\n",
            "Successfully built keras-tuner terminaltables\n",
            "Installing collected packages: terminaltables, colorama, keras-tuner\n",
            "Successfully installed colorama-0.4.4 keras-tuner-1.0.2 terminaltables-3.1.0\n"
          ],
          "name": "stdout"
        }
      ]
    },
    {
      "cell_type": "code",
      "metadata": {
        "id": "RoE_CSsQ-4i-"
      },
      "source": [
        "import os\r\n",
        "import sys\r\n",
        "\r\n",
        "import numpy as np\r\n",
        "import pandas as pd\r\n",
        "import matplotlib.pyplot as plt\r\n",
        "import seaborn as sns\r\n",
        "import tensorflow as tf\r\n",
        "from tensorflow import keras\r\n",
        "import kerastuner as kt\r\n",
        "from kerastuner.tuners import RandomSearch\r\n",
        "from kerastuner.engine.hyperparameters import HyperParameter as hp\r\n",
        "from keras.layers import Dense,Dropout,Activation,Add,MaxPooling2D,Conv2D,Flatten\r\n",
        "from keras.models import Sequential \r\n",
        "from keras.preprocessing.image import ImageDataGenerator\r\n",
        "from keras.applications import VGG19\r\n",
        "from keras import layers\r\n",
        "from keras.preprocessing import image\r\n",
        "from google.colab import drive"
      ],
      "execution_count": null,
      "outputs": []
    },
    {
      "cell_type": "code",
      "metadata": {
        "id": "YODzOjnUN8wI",
        "colab": {
          "base_uri": "https://localhost:8080/"
        },
        "outputId": "97e9efdc-c4ee-4552-dae1-6e8089d159b5"
      },
      "source": [
        "# This mounts your Google Drive to the Colab VM.\r\n",
        "drive.mount('/content/drive', force_remount=True)\r\n",
        "\r\n",
        "# Foldername in your Drive where you have saved the COVID-19 data.\r\n",
        "PROJECT_PATH = '/content/drive/My Drive/cvproject/'\r\n",
        "DATABASE_PATH = f'{PROJECT_PATH}/COVID-19 Radiography Database'\r\n",
        "MODELS_PATH = f'{PROJECT_PATH}/models'\r\n",
        "\r\n",
        "#assert FOLDERNAME is not None, \"[!] Enter the foldername.\"\r\n",
        "\r\n",
        "# now that we've mounted your Drive, this ensures that\r\n",
        "# the Python interpreter of the Colab VM can load\r\n",
        "# python files from within it.\r\n",
        "#sys.path.append(FOLDERPATH)"
      ],
      "execution_count": null,
      "outputs": [
        {
          "output_type": "stream",
          "text": [
            "Mounted at /content/drive\n"
          ],
          "name": "stdout"
        }
      ]
    },
    {
      "cell_type": "code",
      "metadata": {
        "colab": {
          "base_uri": "https://localhost:8080/"
        },
        "id": "VrWrml9Qcwf0",
        "outputId": "ec1af287-cecc-4379-a2e8-2af31650606c"
      },
      "source": [
        "# Check if database is complete.\r\n",
        "try:\r\n",
        "  if len(os.listdir(f'{DATABASE_PATH}/COVID-19')) == 1143:\r\n",
        "    print('COVID-19 compelte.')\r\n",
        "  else:\r\n",
        "    print('COVID-19 incompelte.')\r\n",
        "\r\n",
        "  if len(os.listdir(f'{DATABASE_PATH}/NORMAL')) == 1341:\r\n",
        "    print('NORMAL compelte.')\r\n",
        "  else:\r\n",
        "    print('NORMAL incompelte.')\r\n",
        "\r\n",
        "  if len(os.listdir(f'{DATABASE_PATH}/Viral Pneumonia')) == 1345:\r\n",
        "    print('Viral Pneumonia compelte.')\r\n",
        "  else:\r\n",
        "    print('Viral Pneumonia incompelte.')\r\n",
        "except FileNotFoundError:\r\n",
        "  print(\"Warning: Some directories are missing!\")\r\n",
        "\r\n"
      ],
      "execution_count": null,
      "outputs": [
        {
          "output_type": "stream",
          "text": [
            "COVID-19 compelte.\n",
            "NORMAL compelte.\n",
            "Viral Pneumonia compelte.\n"
          ],
          "name": "stdout"
        }
      ]
    },
    {
      "cell_type": "code",
      "metadata": {
        "colab": {
          "base_uri": "https://localhost:8080/"
        },
        "id": "TL_UxCAZAay9",
        "outputId": "9e57bc65-08e8-4e16-ba50-45fe5175e81f"
      },
      "source": [
        "# Show label name and its encoded value:\r\n",
        "class_names =  [\"COVID-19\",\"NORMAL\",\"Viral Pneumonia\"]\r\n",
        "\r\n",
        "for i, class_name in enumerate(class_names):\r\n",
        "    print(f'{class_name}: {i}')"
      ],
      "execution_count": null,
      "outputs": [
        {
          "output_type": "stream",
          "text": [
            "COVID-19: 0\n",
            "NORMAL: 1\n",
            "Viral Pneumonia: 2\n"
          ],
          "name": "stdout"
        }
      ]
    },
    {
      "cell_type": "code",
      "metadata": {
        "colab": {
          "base_uri": "https://localhost:8080/"
        },
        "id": "ixqyCb84dfsb",
        "outputId": "8f56b50c-a1c8-4c82-c5bc-bb406eed039c"
      },
      "source": [
        "# NOTE: Bildgröße aller Bilder wird auf 244 x 244 geändert. Leider sind die\r\n",
        "#       Covid Bilder sehr klein. Normale und Lungenentzündung sind 1024 x 1024.\r\n",
        "\r\n",
        "# NOTE: '= defect_tree =' entfernt\r\n",
        "\r\n",
        "train_data = tf.keras.preprocessing.image_dataset_from_directory(\r\n",
        "    directory=DATABASE_PATH,\r\n",
        "    labels=\"inferred\",\r\n",
        "    label_mode=\"int\",\r\n",
        "    class_names=class_names,\r\n",
        "    color_mode=\"rgb\",\r\n",
        "    batch_size=32,\r\n",
        "    image_size=(244, 244),\r\n",
        "    shuffle=True,\r\n",
        "    seed=123,\r\n",
        "    validation_split=0.2,\r\n",
        "    subset=\"training\",\r\n",
        "    interpolation=\"bilinear\",\r\n",
        "    follow_links=False,\r\n",
        ")\r\n",
        "test_data = tf.keras.preprocessing.image_dataset_from_directory(\r\n",
        "    directory=DATABASE_PATH,\r\n",
        "    labels=\"inferred\",\r\n",
        "    label_mode=\"int\",\r\n",
        "    class_names=class_names,\r\n",
        "    color_mode=\"rgb\",\r\n",
        "    batch_size=32,\r\n",
        "    image_size=(244, 244),\r\n",
        "    shuffle=True,\r\n",
        "    seed=123,\r\n",
        "    validation_split=0.2,\r\n",
        "    subset=\"validation\",\r\n",
        "    interpolation=\"bilinear\",\r\n",
        "    follow_links=False,\r\n",
        ")"
      ],
      "execution_count": null,
      "outputs": [
        {
          "output_type": "stream",
          "text": [
            "Found 3829 files belonging to 3 classes.\n",
            "Using 3064 files for training.\n",
            "Found 3829 files belonging to 3 classes.\n",
            "Using 765 files for validation.\n"
          ],
          "name": "stdout"
        }
      ]
    },
    {
      "cell_type": "code",
      "metadata": {
        "id": "iUfrw9lFzazz"
      },
      "source": [
        "# Defining the CNN.\r\n",
        "model = tf.keras.models.Sequential([\r\n",
        "  layers.BatchNormalization(),\r\n",
        "  layers.Conv2D(32, 3, activation='relu'),\r\n",
        "  layers.MaxPooling2D(),\r\n",
        "  layers.Conv2D(64, 3, activation='relu'),\r\n",
        "  layers.MaxPooling2D(),\r\n",
        "  layers.Dropout(0.3),\r\n",
        "  layers.Conv2D(128, 3, activation='relu'),\r\n",
        "  layers.MaxPooling2D(),\r\n",
        "  layers.Dropout(0.2),\r\n",
        "  layers.Flatten(),\r\n",
        "  layers.Dense(256, activation='relu'),\r\n",
        "  layers.Dropout(0.15),\r\n",
        "  layers.Dense(3, activation= 'softmax')\r\n",
        "])"
      ],
      "execution_count": null,
      "outputs": []
    },
    {
      "cell_type": "code",
      "metadata": {
        "id": "2yrKmQXEzl4c"
      },
      "source": [
        "# Avoid overfitting...\r\n",
        "early = tf.keras.callbacks.EarlyStopping(monitor='val_loss',patience=5)"
      ],
      "execution_count": null,
      "outputs": []
    },
    {
      "cell_type": "code",
      "metadata": {
        "id": "xZyUWjxLzmkE"
      },
      "source": [
        "# Compile the model.\r\n",
        "model.compile(optimizer='adam',loss='sparse_categorical_crossentropy', metrics=['accuracy'])"
      ],
      "execution_count": null,
      "outputs": []
    },
    {
      "cell_type": "code",
      "metadata": {
        "colab": {
          "base_uri": "https://localhost:8080/"
        },
        "id": "ZkiQy_vlzoXx",
        "outputId": "cef63740-1435-4e0a-f3a3-3b11c9e35163"
      },
      "source": [
        "# Fit the model.\r\n",
        "history=model.fit(train_data,validation_data= test_data,batch_size=32,epochs = 20,callbacks=[early])"
      ],
      "execution_count": null,
      "outputs": [
        {
          "output_type": "stream",
          "text": [
            "Epoch 1/20\n",
            "96/96 [==============================] - 1462s 14s/step - loss: 1.5161 - accuracy: 0.7268 - val_loss: 0.7381 - val_accuracy: 0.8000\n",
            "Epoch 2/20\n",
            "96/96 [==============================] - 411s 4s/step - loss: 0.1752 - accuracy: 0.9413 - val_loss: 0.2363 - val_accuracy: 0.9190\n",
            "Epoch 3/20\n",
            "96/96 [==============================] - 420s 4s/step - loss: 0.1208 - accuracy: 0.9563 - val_loss: 0.1855 - val_accuracy: 0.9373\n",
            "Epoch 4/20\n",
            "96/96 [==============================] - 412s 4s/step - loss: 0.0913 - accuracy: 0.9704 - val_loss: 0.1744 - val_accuracy: 0.9346\n",
            "Epoch 5/20\n",
            "96/96 [==============================] - 416s 4s/step - loss: 0.0628 - accuracy: 0.9764 - val_loss: 0.1802 - val_accuracy: 0.9399\n",
            "Epoch 6/20\n",
            "96/96 [==============================] - 414s 4s/step - loss: 0.0633 - accuracy: 0.9765 - val_loss: 0.1503 - val_accuracy: 0.9490\n",
            "Epoch 7/20\n",
            "96/96 [==============================] - 415s 4s/step - loss: 0.0341 - accuracy: 0.9870 - val_loss: 0.1726 - val_accuracy: 0.9529\n",
            "Epoch 8/20\n",
            "96/96 [==============================] - 418s 4s/step - loss: 0.0192 - accuracy: 0.9933 - val_loss: 0.1632 - val_accuracy: 0.9542\n",
            "Epoch 9/20\n",
            "96/96 [==============================] - 413s 4s/step - loss: 0.0204 - accuracy: 0.9931 - val_loss: 0.2066 - val_accuracy: 0.9503\n",
            "Epoch 10/20\n",
            "96/96 [==============================] - 420s 4s/step - loss: 0.0174 - accuracy: 0.9943 - val_loss: 0.2063 - val_accuracy: 0.9373\n",
            "Epoch 11/20\n",
            "96/96 [==============================] - 418s 4s/step - loss: 0.0425 - accuracy: 0.9820 - val_loss: 0.2310 - val_accuracy: 0.9464\n"
          ],
          "name": "stdout"
        }
      ]
    },
    {
      "cell_type": "code",
      "metadata": {
        "colab": {
          "base_uri": "https://localhost:8080/"
        },
        "id": "bFsJl2kcz0al",
        "outputId": "1154ea9f-daab-44f7-efb6-e5a0369e4a19"
      },
      "source": [
        "# Evaluate the model.\r\n",
        "model.evaluate(test_data)"
      ],
      "execution_count": null,
      "outputs": [
        {
          "output_type": "stream",
          "text": [
            "24/24 [==============================] - 32s 1s/step - loss: 0.2310 - accuracy: 0.9464\n"
          ],
          "name": "stdout"
        },
        {
          "output_type": "execute_result",
          "data": {
            "text/plain": [
              "[0.23096494376659393, 0.9464052319526672]"
            ]
          },
          "metadata": {
            "tags": []
          },
          "execution_count": 12
        }
      ]
    },
    {
      "cell_type": "code",
      "metadata": {
        "id": "tOWAad4uIpaO",
        "colab": {
          "base_uri": "https://localhost:8080/",
          "height": 585
        },
        "outputId": "67e47578-c69b-4980-f771-6d96bccf14f0"
      },
      "source": [
        "#plotting training values\r\n",
        "sns.set()\r\n",
        "\r\n",
        "acc = history.history['accuracy']\r\n",
        "val_acc = history.history['val_accuracy']\r\n",
        "loss = history.history['loss']\r\n",
        "val_loss = history.history['val_loss']\r\n",
        "epochs = range(1, len(loss) + 1)\r\n",
        "\r\n",
        "#accuracy plot\r\n",
        "plt.plot(epochs, acc, color='green', label='Training Accuracy')\r\n",
        "plt.plot(epochs, val_acc, color='blue', label='Validation Accuracy')\r\n",
        "plt.title('Training and Validation Accuracy')\r\n",
        "plt.ylabel('Accuracy')\r\n",
        "plt.xlabel('Epoch')\r\n",
        "plt.legend()\r\n",
        "\r\n",
        "plt.figure()\r\n",
        "#loss plot\r\n",
        "plt.plot(epochs, loss, color='pink', label='Training Loss')\r\n",
        "plt.plot(epochs, val_loss, color='red', label='Validation Loss')\r\n",
        "plt.title('Training and Validation Loss')\r\n",
        "plt.xlabel('Epoch')\r\n",
        "plt.ylabel('Loss')\r\n",
        "plt.legend()\r\n",
        "\r\n",
        "plt.show()"
      ],
      "execution_count": null,
      "outputs": [
        {
          "output_type": "display_data",
          "data": {
            "image/png": "[encoded data removed]",
            "text/plain": [
              "<Figure size 432x288 with 1 Axes>"
            ]
          },
          "metadata": {
            "tags": []
          }
        },
        {
          "output_type": "display_data",
          "data": {
            "image/png": "[encoded data removed]",
            "text/plain": [
              "<Figure size 432x288 with 1 Axes>"
            ]
          },
          "metadata": {
            "tags": []
          }
        }
      ]
    },
    {
      "cell_type": "code",
      "metadata": {
        "id": "1hSb6Qn-Ip1W",
        "colab": {
          "base_uri": "https://localhost:8080/",
          "height": 286
        },
        "outputId": "9ede4ed5-5540-4fce-8152-ec1406b22e6a"
      },
      "source": [
        "#train data accuracy and loss\r\n",
        "plt.plot(history.history['val_loss'], label = 'training loss')\r\n",
        "plt.plot(history.history['val_accuracy'], label = 'training accuracy')\r\n",
        "plt.legend()"
      ],
      "execution_count": null,
      "outputs": [
        {
          "output_type": "execute_result",
          "data": {
            "text/plain": [
              "<matplotlib.legend.Legend at 0x7fdb28694e10>"
            ]
          },
          "metadata": {
            "tags": []
          },
          "execution_count": 14
        },
        {
          "output_type": "display_data",
          "data": {
            "image/png": "[encoded data removed]",
            "text/plain": [
              "<Figure size 432x288 with 1 Axes>"
            ]
          },
          "metadata": {
            "tags": []
          }
        }
      ]
    },
    {
      "cell_type": "code",
      "metadata": {
        "id": "PcoOziXwIroW",
        "colab": {
          "base_uri": "https://localhost:8080/",
          "height": 286
        },
        "outputId": "d23da2c4-f579-4fba-9480-58453ff7d5a3"
      },
      "source": [
        "#test data accuracy and loss\r\n",
        "plt.plot(history.history['loss'], label = 'training loss')\r\n",
        "plt.plot(history.history['accuracy'], label = 'training accuracy')\r\n",
        "plt.legend()"
      ],
      "execution_count": null,
      "outputs": [
        {
          "output_type": "execute_result",
          "data": {
            "text/plain": [
              "<matplotlib.legend.Legend at 0x7fdb280630f0>"
            ]
          },
          "metadata": {
            "tags": []
          },
          "execution_count": 15
        },
        {
          "output_type": "display_data",
          "data": {
            "image/png": "[encoded data removed]",
            "text/plain": [
              "<Figure size 432x288 with 1 Axes>"
            ]
          },
          "metadata": {
            "tags": []
          }
        }
      ]
    },
    {
      "cell_type": "code",
      "metadata": {
        "id": "im53-qPRIuat"
      },
      "source": [
        "#save file as h5 model\r\n",
        "model_json = model.to_json()\r\n",
        "with open(\"model.json\", \"w\") as json_file:\r\n",
        "    json_file.write(model_json)\r\n",
        "# serialize weights to HDF5\r\n",
        "\r\n",
        "model.save(f'{MODELS_PATH}/model_2020-12-28.h5')"
      ],
      "execution_count": null,
      "outputs": []
    },
    {
      "cell_type": "code",
      "metadata": {
        "id": "vMZK1gCoI2hm"
      },
      "source": [
        "model = keras.models.load_model(f'{MODELS_PATH}/model_2020-12-28.h5')"
      ],
      "execution_count": null,
      "outputs": []
    },
    {
      "cell_type": "code",
      "metadata": {
        "colab": {
          "base_uri": "https://localhost:8080/"
        },
        "id": "gk84EseISq-m",
        "outputId": "d841c8be-a248-4e6b-b8eb-4543035d5d34"
      },
      "source": [
        " model.summary()"
      ],
      "execution_count": null,
      "outputs": [
        {
          "output_type": "stream",
          "text": [
            "Model: \"sequential\"\n",
            "_________________________________________________________________\n",
            "Layer (type)                 Output Shape              Param #   \n",
            "=================================================================\n",
            "batch_normalization (BatchNo (None, 244, 244, 3)       12        \n",
            "_________________________________________________________________\n",
            "conv2d (Conv2D)              (None, 242, 242, 32)      896       \n",
            "_________________________________________________________________\n",
            "max_pooling2d (MaxPooling2D) (None, 121, 121, 32)      0         \n",
            "_________________________________________________________________\n",
            "conv2d_1 (Conv2D)            (None, 119, 119, 64)      18496     \n",
            "_________________________________________________________________\n",
            "max_pooling2d_1 (MaxPooling2 (None, 59, 59, 64)        0         \n",
            "_________________________________________________________________\n",
            "dropout (Dropout)            (None, 59, 59, 64)        0         \n",
            "_________________________________________________________________\n",
            "conv2d_2 (Conv2D)            (None, 57, 57, 128)       73856     \n",
            "_________________________________________________________________\n",
            "max_pooling2d_2 (MaxPooling2 (None, 28, 28, 128)       0         \n",
            "_________________________________________________________________\n",
            "dropout_1 (Dropout)          (None, 28, 28, 128)       0         \n",
            "_________________________________________________________________\n",
            "flatten (Flatten)            (None, 100352)            0         \n",
            "_________________________________________________________________\n",
            "dense (Dense)                (None, 256)               25690368  \n",
            "_________________________________________________________________\n",
            "dropout_2 (Dropout)          (None, 256)               0         \n",
            "_________________________________________________________________\n",
            "dense_1 (Dense)              (None, 3)                 771       \n",
            "=================================================================\n",
            "Total params: 25,784,399\n",
            "Trainable params: 25,784,393\n",
            "Non-trainable params: 6\n",
            "_________________________________________________________________\n"
          ],
          "name": "stdout"
        }
      ]
    }
  ]
}