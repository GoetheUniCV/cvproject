{
  "nbformat": 4,
  "nbformat_minor": 0,
  "metadata": {
    "colab": {
      "name": "Untitled5.ipynb",
      "provenance": [],
      "authorship_tag": "ABX9TyNOfxg95MhQisDuPuOs+qf+",
      "include_colab_link": true
    },
    "kernelspec": {
      "name": "python3",
      "display_name": "Python 3"
    }
  },
  "cells": [
    {
      "cell_type": "markdown",
      "metadata": {
        "id": "view-in-github",
        "colab_type": "text"
      },
      "source": [
        "<a href=\"https://colab.research.google.com/github/GoetheUniCV/cvproject/blob/main/visualization/gradcam.ipynb\" target=\"_parent\"><img src=\"https://colab.research.google.com/assets/colab-badge.svg\" alt=\"Open In Colab\"/></a>"
      ]
    },
    {
      "cell_type": "markdown",
      "metadata": {
        "id": "26wLVthP7DBz"
      },
      "source": [
        "##Grad-CAM"
      ]
    },
    {
      "cell_type": "code",
      "metadata": {
        "id": "2HW5Z4NA4N4z"
      },
      "source": [
        "from google.colab import drive\r\n",
        "import tensorflow as tf\r\n",
        "import numpy as np\r\n",
        "from tensorflow import keras\r\n",
        "\r\n",
        "from IPython.display import Image\r\n",
        "import matplotlib.pyplot as plt\r\n",
        "import matplotlib.cm as cm"
      ],
      "execution_count": 72,
      "outputs": []
    },
    {
      "cell_type": "code",
      "metadata": {
        "id": "dTu1ryLO4P1W",
        "outputId": "9799e0ee-acf3-4a2a-bf2c-9f8abfd2518c",
        "colab": {
          "base_uri": "https://localhost:8080/"
        }
      },
      "source": [
        "# This mounts your Google Drive to the Colab VM.\r\n",
        "drive.mount('/content/drive', force_remount=True)\r\n",
        "\r\n",
        "# Foldername in your Drive where you have saved the COVID-19 data.\r\n",
        "PROJECT_PATH = '/content/drive/My Drive/cvproject/'\r\n",
        "DATABASE_PATH = f'{PROJECT_PATH}/COVID-19 Radiography Database'\r\n",
        "MODELS_PATH = f'{PROJECT_PATH}/models'"
      ],
      "execution_count": 2,
      "outputs": [
        {
          "output_type": "stream",
          "text": [
            "Mounted at /content/drive\n"
          ],
          "name": "stdout"
        }
      ]
    },
    {
      "cell_type": "code",
      "metadata": {
        "id": "8xJaU0Pd4Hyg"
      },
      "source": [
        "model = tf.keras.models.load_model(f'{MODELS_PATH}/model_2020-12-28.h5')"
      ],
      "execution_count": 64,
      "outputs": []
    },
    {
      "cell_type": "code",
      "metadata": {
        "id": "7B4j8r97KQII",
        "outputId": "7b5c6d70-de00-4450-979b-6916280eedd5",
        "colab": {
          "base_uri": "https://localhost:8080/"
        }
      },
      "source": [
        "model.summary()"
      ],
      "execution_count": 98,
      "outputs": [
        {
          "output_type": "stream",
          "text": [
            "Model: \"sequential\"\n",
            "_________________________________________________________________\n",
            "Layer (type)                 Output Shape              Param #   \n",
            "=================================================================\n",
            "batch_normalization (BatchNo (None, 244, 244, 3)       12        \n",
            "_________________________________________________________________\n",
            "conv2d (Conv2D)              (None, 242, 242, 32)      896       \n",
            "_________________________________________________________________\n",
            "max_pooling2d (MaxPooling2D) (None, 121, 121, 32)      0         \n",
            "_________________________________________________________________\n",
            "conv2d_1 (Conv2D)            (None, 119, 119, 64)      18496     \n",
            "_________________________________________________________________\n",
            "max_pooling2d_1 (MaxPooling2 (None, 59, 59, 64)        0         \n",
            "_________________________________________________________________\n",
            "dropout (Dropout)            (None, 59, 59, 64)        0         \n",
            "_________________________________________________________________\n",
            "conv2d_2 (Conv2D)            (None, 57, 57, 128)       73856     \n",
            "_________________________________________________________________\n",
            "max_pooling2d_2 (MaxPooling2 (None, 28, 28, 128)       0         \n",
            "_________________________________________________________________\n",
            "dropout_1 (Dropout)          (None, 28, 28, 128)       0         \n",
            "_________________________________________________________________\n",
            "flatten (Flatten)            (None, 100352)            0         \n",
            "_________________________________________________________________\n",
            "dense (Dense)                (None, 256)               25690368  \n",
            "_________________________________________________________________\n",
            "dropout_2 (Dropout)          (None, 256)               0         \n",
            "_________________________________________________________________\n",
            "dense_1 (Dense)              (None, 3)                 771       \n",
            "=================================================================\n",
            "Total params: 25,784,399\n",
            "Trainable params: 25,784,393\n",
            "Non-trainable params: 6\n",
            "_________________________________________________________________\n"
          ],
          "name": "stdout"
        }
      ]
    },
    {
      "cell_type": "code",
      "metadata": {
        "colab": {
          "base_uri": "https://localhost:8080/"
        },
        "id": "TL_UxCAZAay9",
        "outputId": "10db47b7-f905-404c-ff60-8fdf29dded26"
      },
      "source": [
        "# Show label name and its encoded value:\r\n",
        "class_names =  [\"COVID-19\",\"NORMAL\",\"Viral Pneumonia\"]\r\n",
        "\r\n",
        "for i, class_name in enumerate(class_names):\r\n",
        "    print(f'{class_name}: {i}')"
      ],
      "execution_count": 65,
      "outputs": [
        {
          "output_type": "stream",
          "text": [
            "COVID-19: 0\n",
            "NORMAL: 1\n",
            "Viral Pneumonia: 2\n"
          ],
          "name": "stdout"
        }
      ]
    },
    {
      "cell_type": "code",
      "metadata": {
        "id": "mkudaFCn4xGA",
        "outputId": "a2487380-c3b2-4f72-95a5-44643d769c4f",
        "colab": {
          "base_uri": "https://localhost:8080/"
        }
      },
      "source": [
        "test_data = tf.keras.preprocessing.image_dataset_from_directory(\r\n",
        "    directory=DATABASE_PATH,\r\n",
        "    labels=\"inferred\",\r\n",
        "    label_mode=\"int\",\r\n",
        "    class_names=class_names,\r\n",
        "    color_mode=\"rgb\",\r\n",
        "    batch_size=32,\r\n",
        "    image_size=(244, 244),\r\n",
        "    shuffle=True,\r\n",
        "    seed=123,\r\n",
        "    validation_split=0.2,\r\n",
        "    subset=\"validation\",\r\n",
        "    interpolation=\"bilinear\",\r\n",
        "    follow_links=False,\r\n",
        ")"
      ],
      "execution_count": 55,
      "outputs": [
        {
          "output_type": "stream",
          "text": [
            "Found 3829 files belonging to 3 classes.\n",
            "Using 765 files for validation.\n"
          ],
          "name": "stdout"
        }
      ]
    },
    {
      "cell_type": "code",
      "metadata": {
        "id": "nWMVbrK-ELXp",
        "outputId": "9b3848a7-5a65-44f3-ff3b-5148d1bdde52",
        "colab": {
          "base_uri": "https://localhost:8080/"
        }
      },
      "source": [
        "z = 0\r\n",
        "for batch in test_data:\r\n",
        "  for image in batch:\r\n",
        "    z += 1\r\n",
        "z"
      ],
      "execution_count": 59,
      "outputs": [
        {
          "output_type": "execute_result",
          "data": {
            "text/plain": [
              "48"
            ]
          },
          "metadata": {
            "tags": []
          },
          "execution_count": 59
        }
      ]
    },
    {
      "cell_type": "code",
      "metadata": {
        "id": "NaLjvHsG7VxG"
      },
      "source": [
        "img_size = (244, 244)\r\n",
        "\r\n",
        "last_conv_layer_name = \"dropout_1\"\r\n",
        "classifier_layer_names = [\r\n",
        "    \"flatten\",\r\n",
        "    \"dense\",\r\n",
        "    \"dropout_2\",\r\n",
        "    \"dense_1\",\r\n",
        "]"
      ],
      "execution_count": 85,
      "outputs": []
    },
    {
      "cell_type": "code",
      "metadata": {
        "id": "LMEfMR2aGWNM"
      },
      "source": [
        "def make_gradcam_heatmap(\r\n",
        "    img_array, model, last_conv_layer_name, classifier_layer_names\r\n",
        "):\r\n",
        "    # First, we create a model that maps the input image to the activations\r\n",
        "    # of the last conv layer\r\n",
        "    last_conv_layer = model.get_layer(last_conv_layer_name)\r\n",
        "    last_conv_layer_model = keras.Model(model.inputs, last_conv_layer.output)\r\n",
        "\r\n",
        "    # Second, we create a model that maps the activations of the last conv\r\n",
        "    # layer to the final class predictions\r\n",
        "    classifier_input = keras.Input(shape=last_conv_layer.output.shape[1:])\r\n",
        "    x = classifier_input\r\n",
        "    for layer_name in classifier_layer_names:\r\n",
        "        x = model.get_layer(layer_name)(x)\r\n",
        "    classifier_model = keras.Model(classifier_input, x)\r\n",
        "\r\n",
        "    # Then, we compute the gradient of the top predicted class for our input image\r\n",
        "    # with respect to the activations of the last conv layer\r\n",
        "    with tf.GradientTape() as tape:\r\n",
        "        # Compute activations of the last conv layer and make the tape watch it\r\n",
        "        last_conv_layer_output = last_conv_layer_model(img_array)\r\n",
        "        tape.watch(last_conv_layer_output)\r\n",
        "        # Compute class predictions\r\n",
        "        preds = classifier_model(last_conv_layer_output)\r\n",
        "        top_pred_index = tf.argmax(preds[0])\r\n",
        "        top_class_channel = preds[:, top_pred_index]\r\n",
        "\r\n",
        "    # This is the gradient of the top predicted class with regard to\r\n",
        "    # the output feature map of the last conv layer\r\n",
        "    grads = tape.gradient(top_class_channel, last_conv_layer_output)\r\n",
        "\r\n",
        "    # This is a vector where each entry is the mean intensity of the gradient\r\n",
        "    # over a specific feature map channel\r\n",
        "    pooled_grads = tf.reduce_mean(grads, axis=(0, 1, 2))\r\n",
        "\r\n",
        "    # We multiply each channel in the feature map array\r\n",
        "    # by \"how important this channel is\" with regard to the top predicted class\r\n",
        "    last_conv_layer_output = last_conv_layer_output.numpy()[0]\r\n",
        "    pooled_grads = pooled_grads.numpy()\r\n",
        "    for i in range(pooled_grads.shape[-1]):\r\n",
        "        last_conv_layer_output[:, :, i] *= pooled_grads[i]\r\n",
        "\r\n",
        "    # The channel-wise mean of the resulting feature map\r\n",
        "    # is our heatmap of class activation\r\n",
        "    heatmap = np.mean(last_conv_layer_output, axis=-1)\r\n",
        "\r\n",
        "    # For visualization purpose, we will also normalize the heatmap between 0 & 1\r\n",
        "    heatmap = np.maximum(heatmap, 0) / np.max(heatmap)\r\n",
        "    return heatmap"
      ],
      "execution_count": 62,
      "outputs": []
    },
    {
      "cell_type": "code",
      "metadata": {
        "id": "SlBipaGSFEO5"
      },
      "source": [
        "heatmaps = []\r\n",
        "# iterate the buckets\r\n",
        "for images, labels in test_data.take(-1):  # only take first element of dataset; change to -1 for all buckets!\r\n",
        "  images_np = images.numpy()\r\n",
        "  labels_np = labels.numpy()\r\n",
        "\r\n",
        "  # Get the covid images of the current bucket.\r\n",
        "  images_covid_np = images_np[labels_np == 0]\r\n",
        "\r\n",
        "  for image in images_covid_np:\r\n",
        "    image_array = np.expand_dims(image, axis=0)\r\n",
        "\r\n",
        "    # Print what the top predicted class is.\r\n",
        "    preds = model.predict(image_array)\r\n",
        "\r\n",
        "    # Generate class activation heatmap\r\n",
        "    heatmap = make_gradcam_heatmap(image_array, model, last_conv_layer_name, classifier_layer_names)\r\n",
        "\r\n",
        "    heatmaps.append([image, heatmap])"
      ],
      "execution_count": 105,
      "outputs": []
    },
    {
      "cell_type": "code",
      "metadata": {
        "id": "EFu9hpZgHnZC",
        "outputId": "920a7022-6e4e-46c8-9a36-e4932ff15545",
        "colab": {
          "base_uri": "https://localhost:8080/",
          "height": 275
        }
      },
      "source": [
        "plt.matshow(heatmaps[0][1])\r\n",
        "plt.show()"
      ],
      "execution_count": 94,
      "outputs": [
        {
          "output_type": "display_data",
          "data": {
            "image/png": "[encoded data removed]",
            "text/plain": [
              "<Figure size 288x288 with 1 Axes>"
            ]
          },
          "metadata": {
            "tags": [],
            "needs_background": "light"
          }
        }
      ]
    },
    {
      "cell_type": "code",
      "metadata": {
        "id": "SDZmK26WJ_67",
        "outputId": "d6e2eab9-4878-49b1-dc0c-5c855d69ae0e",
        "colab": {
          "base_uri": "https://localhost:8080/",
          "height": 275
        }
      },
      "source": [
        "plt.matshow(heatmaps[1][1])\r\n",
        "plt.show()"
      ],
      "execution_count": 99,
      "outputs": [
        {
          "output_type": "display_data",
          "data": {
            "image/png": "[encoded data removed]",
            "text/plain": [
              "<Figure size 288x288 with 1 Axes>"
            ]
          },
          "metadata": {
            "tags": [],
            "needs_background": "light"
          }
        }
      ]
    },
    {
      "cell_type": "code",
      "metadata": {
        "id": "QXIJNxFyH4xL",
        "outputId": "e5302ed0-de13-4aea-dc35-72d647157a55",
        "colab": {
          "base_uri": "https://localhost:8080/"
        }
      },
      "source": [
        "len(heatmaps)"
      ],
      "execution_count": 104,
      "outputs": [
        {
          "output_type": "execute_result",
          "data": {
            "text/plain": [
              "10"
            ]
          },
          "metadata": {
            "tags": []
          },
          "execution_count": 104
        }
      ]
    },
    {
      "cell_type": "markdown",
      "metadata": {
        "id": "GlzV7BFJKXN1"
      },
      "source": [
        "TODO: Heatmap inside image"
      ]
    },
    {
      "cell_type": "code",
      "metadata": {
        "colab": {
          "base_uri": "https://localhost:8080/",
          "height": 273
        },
        "id": "9DnqftT8Canc",
        "outputId": "7bc1e648-2822-42b4-abbb-344cbe469a83"
      },
      "source": [
        "# We load the original image\r\n",
        "img = keras.preprocessing.image.load_img(img_path)\r\n",
        "img = keras.preprocessing.image.img_to_array(img)\r\n",
        "\r\n",
        "# We rescale heatmap to a range 0-255\r\n",
        "heatmap = np.uint8(255 * heatmap)\r\n",
        "\r\n",
        "# We use jet colormap to colorize heatmap\r\n",
        "jet = cm.get_cmap(\"jet\")\r\n",
        "\r\n",
        "# We use RGB values of the colormap\r\n",
        "jet_colors = jet(np.arange(256))[:, :3]\r\n",
        "jet_heatmap = jet_colors[heatmap]\r\n",
        "\r\n",
        "# We create an image with RGB colorized heatmap\r\n",
        "jet_heatmap = keras.preprocessing.image.array_to_img(jet_heatmap)\r\n",
        "jet_heatmap = jet_heatmap.resize((img.shape[1], img.shape[0]))\r\n",
        "jet_heatmap = keras.preprocessing.image.img_to_array(jet_heatmap)\r\n",
        "\r\n",
        "# Superimpose the heatmap on original image\r\n",
        "superimposed_img = jet_heatmap * 0.4 + img\r\n",
        "superimposed_img = keras.preprocessing.image.array_to_img(superimposed_img)\r\n",
        "\r\n",
        "# Save the superimposed image\r\n",
        "save_path = \"elephant_cam.jpg\"\r\n",
        "superimposed_img.save(save_path)\r\n",
        "\r\n",
        "# Display Grad CAM\r\n",
        "display(Image(save_path))\r\n"
      ],
      "execution_count": null,
      "outputs": [
        {
          "output_type": "display_data",
          "data": {
            "image/jpeg": "[encoded data removed]",
            "text/plain": [
              "<IPython.core.display.Image object>"
            ]
          },
          "metadata": {
            "tags": []
          }
        }
      ]
    }
  ]
}